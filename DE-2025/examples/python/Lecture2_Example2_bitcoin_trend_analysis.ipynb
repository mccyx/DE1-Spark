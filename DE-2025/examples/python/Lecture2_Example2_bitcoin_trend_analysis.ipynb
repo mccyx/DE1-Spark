{
 "cells": [
  {
   "cell_type": "markdown",
   "metadata": {},
   "source": [
    "# Bitcoin analysis based on historical data using Pyspark \n",
    "\n",
    "**Goals**:\n",
    "1. Importing Bitcoin Historical dataset to Spark.\n",
    "2. Understanding of the dataset\n",
    "3. Visualizing the data \n",
    "3. Performing analysis by Linear Regression\n",
    "4. Present/Visualize your results.\n"
   ]
  },
  {
   "cell_type": "markdown",
   "metadata": {},
   "source": [
    "# Columns\n",
    "\n",
    "**Timestamp** -> Date (in Epoch Unix format) of data collection; It will later be transformed into a \"human\" date for better understanding; Intervals of approximately 1 in 1 minute, with time zone set to UTC.\n",
    "\n",
    "**Open** -> Initial currency trading value in that measurement range, in USD.\n",
    "\n",
    "**High** -> Highest value reached by the asset during that measurement interval, in USD.\n",
    "\n",
    "**Low** -> Lowest value reached by the asset during that measurement interval, in USD.\n",
    "\n",
    "**Close** -> Value of the asset at the time of closing the measurement range, in USD.\n",
    "\n",
    "**Volume_ (BTC)** -> Volume, in BTC, traded on Bitstamp during a given measurement interval\n",
    "\n",
    "**Volume_ (Currency)** -> Volume, in USD, traded on Bitstamp during a given measurement interval;\n",
    "\n",
    "**Weighted_Price** -> Average asset price in that range, in USD; Calculated based on traded volumes; It will be considered as the average price for analytical issues."
   ]
  },
  {
   "cell_type": "markdown",
   "metadata": {},
   "source": [
    "# Import required Libraries"
   ]
  },
  {
   "cell_type": "code",
   "execution_count": 1,
   "metadata": {},
   "outputs": [],
   "source": [
    "import numpy as np # linear algebra\n",
    "import pandas as pd # data processing, CSV file I/O (e.g. pd.read_csv)"
   ]
  },
  {
   "cell_type": "code",
   "execution_count": 2,
   "metadata": {},
   "outputs": [],
   "source": [
    "import pyspark\n",
    "from pyspark import SparkConf, SparkContext\n",
    "from pyspark.sql import SparkSession, SQLContext\n",
    "from pyspark.sql.types import *\n",
    "from pyspark.sql.functions import *"
   ]
  },
  {
   "cell_type": "code",
   "execution_count": 3,
   "metadata": {},
   "outputs": [],
   "source": [
    "# setting random seed for notebook reproducability\n",
    "rnd_seed=23\n",
    "np.random.seed=rnd_seed\n",
    "np.random.set_state=rnd_seed"
   ]
  },
  {
   "cell_type": "markdown",
   "metadata": {},
   "source": [
    "# Creating the Spark Session"
   ]
  },
  {
   "cell_type": "code",
   "execution_count": 4,
   "metadata": {
    "editable": true,
    "slideshow": {
     "slide_type": ""
    },
    "tags": []
   },
   "outputs": [
    {
     "name": "stderr",
     "output_type": "stream",
     "text": [
      "Setting default log level to \"WARN\".\n",
      "To adjust logging level use sc.setLogLevel(newLevel). For SparkR, use setLogLevel(newLevel).\n",
      "25/02/09 15:36:54 WARN NativeCodeLoader: Unable to load native-hadoop library for your platform... using builtin-java classes where applicable\n"
     ]
    }
   ],
   "source": [
    "spark_session = SparkSession.builder\\\n",
    "        .master(\"spark://192.168.2.251:7077\") \\\n",
    "        .appName(\"Lecture2_Example2_bitcoin_trend_analysis\")\\\n",
    "        .config(\"spark.dynamicAllocation.enabled\", True)\\\n",
    "        .config(\"spark.dynamicAllocation.shuffleTracking.enabled\",True)\\\n",
    "        .config(\"spark.shuffle.service.enabled\", False)\\\n",
    "        .config(\"spark.dynamicAllocation.executorIdleTimeout\",\"30s\")\\\n",
    "        .config(\"spark.executor.cores\", 8)\\\n",
    "        .config(\"spark.driver.port\",9999)\\\n",
    "        .config(\"spark.blockManager.port\",10005)\\\n",
    "        .getOrCreate()\n",
    "\n",
    "sc = spark_session.sparkContext\n",
    "sc.setLogLevel(\"ERROR\")"
   ]
  },
  {
   "cell_type": "code",
   "execution_count": 5,
   "metadata": {},
   "outputs": [
    {
     "data": {
      "text/html": [
       "\n",
       "            <div>\n",
       "                <p><b>SparkSession - in-memory</b></p>\n",
       "                \n",
       "        <div>\n",
       "            <p><b>SparkContext</b></p>\n",
       "\n",
       "            <p><a href=\"http://de1-spark-host-180:4040\">Spark UI</a></p>\n",
       "\n",
       "            <dl>\n",
       "              <dt>Version</dt>\n",
       "                <dd><code>v3.5.4</code></dd>\n",
       "              <dt>Master</dt>\n",
       "                <dd><code>spark://192.168.2.251:7077</code></dd>\n",
       "              <dt>AppName</dt>\n",
       "                <dd><code>Lecture2_Example2_bitcoin_trend_analysis</code></dd>\n",
       "            </dl>\n",
       "        </div>\n",
       "        \n",
       "            </div>\n",
       "        "
      ],
      "text/plain": [
       "<pyspark.sql.session.SparkSession at 0x7fd2a17b45e0>"
      ]
     },
     "execution_count": 5,
     "metadata": {},
     "output_type": "execute_result"
    }
   ],
   "source": [
    "spark_session"
   ]
  },
  {
   "cell_type": "code",
   "execution_count": 6,
   "metadata": {},
   "outputs": [
    {
     "name": "stderr",
     "output_type": "stream",
     "text": [
      "/usr/local/lib/python3.10/dist-packages/pyspark/sql/context.py:113: FutureWarning: Deprecated in 3.0.0. Use SparkSession.builder.getOrCreate() instead.\n",
      "  warnings.warn(\n"
     ]
    },
    {
     "data": {
      "text/plain": [
       "<pyspark.sql.context.SQLContext at 0x7fd2a1817c10>"
      ]
     },
     "execution_count": 6,
     "metadata": {},
     "output_type": "execute_result"
    }
   ],
   "source": [
    "sqlContext = SQLContext(spark_session.sparkContext)\n",
    "sqlContext"
   ]
  },
  {
   "cell_type": "markdown",
   "metadata": {},
   "source": [
    "# Performing Spark commands using Pyspark"
   ]
  },
  {
   "cell_type": "code",
   "execution_count": 7,
   "metadata": {
    "editable": true,
    "slideshow": {
     "slide_type": ""
    },
    "tags": []
   },
   "outputs": [
    {
     "name": "stderr",
     "output_type": "stream",
     "text": [
      "                                                                                "
     ]
    }
   ],
   "source": [
    "#Loading Data to dataframe, store in cache memory to increase speed\n",
    "df = sqlContext.read.csv(\"hdfs://192.168.2.251:9000/data/others/btcusd_1-min_data.csv\",\n",
    "                        header=\"true\", inferSchema=\"true\").cache()"
   ]
  },
  {
   "cell_type": "code",
   "execution_count": 8,
   "metadata": {},
   "outputs": [
    {
     "name": "stderr",
     "output_type": "stream",
     "text": [
      "[Stage 2:===================================================>       (7 + 1) / 8]"
     ]
    },
    {
     "name": "stdout",
     "output_type": "stream",
     "text": [
      "+------------+----+----+----+-----+------+\n",
      "|   Timestamp|Open|High| Low|Close|Volume|\n",
      "+------------+----+----+----+-----+------+\n",
      "|1.32541206E9|4.58|4.58|4.58| 4.58|   0.0|\n",
      "|1.32541212E9|4.58|4.58|4.58| 4.58|   0.0|\n",
      "|1.32541218E9|4.58|4.58|4.58| 4.58|   0.0|\n",
      "|1.32541224E9|4.58|4.58|4.58| 4.58|   0.0|\n",
      "| 1.3254123E9|4.58|4.58|4.58| 4.58|   0.0|\n",
      "|1.32541236E9|4.58|4.58|4.58| 4.58|   0.0|\n",
      "|1.32541242E9|4.58|4.58|4.58| 4.58|   0.0|\n",
      "|1.32541248E9|4.58|4.58|4.58| 4.58|   0.0|\n",
      "|1.32541254E9|4.58|4.58|4.58| 4.58|   0.0|\n",
      "| 1.3254126E9|4.58|4.58|4.58| 4.58|   0.0|\n",
      "+------------+----+----+----+-----+------+\n",
      "only showing top 10 rows\n",
      "\n"
     ]
    },
    {
     "name": "stderr",
     "output_type": "stream",
     "text": [
      "                                                                                "
     ]
    }
   ],
   "source": [
    "df.show(10)"
   ]
  },
  {
   "cell_type": "code",
   "execution_count": 9,
   "metadata": {},
   "outputs": [
    {
     "name": "stdout",
     "output_type": "stream",
     "text": [
      "root\n",
      " |-- Timestamp: double (nullable = true)\n",
      " |-- Open: double (nullable = true)\n",
      " |-- High: double (nullable = true)\n",
      " |-- Low: double (nullable = true)\n",
      " |-- Close: double (nullable = true)\n",
      " |-- Volume: double (nullable = true)\n",
      "\n"
     ]
    }
   ],
   "source": [
    "#getting the schema info from the dataframe\n",
    "df.printSchema()"
   ]
  },
  {
   "cell_type": "markdown",
   "metadata": {},
   "source": [
    "# Data Exploration and Preprocessing"
   ]
  },
  {
   "cell_type": "code",
   "execution_count": 10,
   "metadata": {},
   "outputs": [
    {
     "name": "stdout",
     "output_type": "stream",
     "text": [
      "Total Rows: 6750281\n",
      "Total Cols: 6\n"
     ]
    }
   ],
   "source": [
    "# Count total number of rows\n",
    "print(f\"Total Rows: {df.count()}\")\n",
    "\n",
    "# Maximum rows in excel: 1,048,576\n",
    "# https://support.office.com/en-us/article/excel-specifications-and-limits-1672b34d-7043-467e-8e27-269d656771c3\n",
    "\n",
    "# Count the total number of columns\n",
    "print(f\"Total Cols: {len(df.columns)}\")"
   ]
  },
  {
   "cell_type": "code",
   "execution_count": 11,
   "metadata": {},
   "outputs": [
    {
     "data": {
      "text/plain": [
       "8"
      ]
     },
     "execution_count": 11,
     "metadata": {},
     "output_type": "execute_result"
    }
   ],
   "source": [
    "df.rdd.getNumPartitions()"
   ]
  },
  {
   "cell_type": "code",
   "execution_count": 12,
   "metadata": {},
   "outputs": [
    {
     "name": "stderr",
     "output_type": "stream",
     "text": [
      "[Stage 7:===================================================>       (7 + 1) / 8]"
     ]
    },
    {
     "data": {
      "text/plain": [
       "10"
      ]
     },
     "execution_count": 12,
     "metadata": {},
     "output_type": "execute_result"
    }
   ],
   "source": [
    "# you can change the number of partitions by .repartition()\n",
    "df1 = df.repartition(10)\n",
    "df1.rdd.getNumPartitions()"
   ]
  },
  {
   "cell_type": "code",
   "execution_count": 13,
   "metadata": {},
   "outputs": [
    {
     "name": "stderr",
     "output_type": "stream",
     "text": [
      "                                                                                "
     ]
    },
    {
     "name": "stdout",
     "output_type": "stream",
     "text": [
      "+------------+----+----+----+-----+------+-------------------+\n",
      "|   Timestamp|Open|High| Low|Close|Volume|           dateTime|\n",
      "+------------+----+----+----+-----+------+-------------------+\n",
      "|1.32541206E9|4.58|4.58|4.58| 4.58|   0.0|2012-01-01 10:01:00|\n",
      "|1.32541212E9|4.58|4.58|4.58| 4.58|   0.0|2012-01-01 10:02:00|\n",
      "|1.32541218E9|4.58|4.58|4.58| 4.58|   0.0|2012-01-01 10:03:00|\n",
      "|1.32541224E9|4.58|4.58|4.58| 4.58|   0.0|2012-01-01 10:04:00|\n",
      "| 1.3254123E9|4.58|4.58|4.58| 4.58|   0.0|2012-01-01 10:05:00|\n",
      "|1.32541236E9|4.58|4.58|4.58| 4.58|   0.0|2012-01-01 10:06:00|\n",
      "|1.32541242E9|4.58|4.58|4.58| 4.58|   0.0|2012-01-01 10:07:00|\n",
      "|1.32541248E9|4.58|4.58|4.58| 4.58|   0.0|2012-01-01 10:08:00|\n",
      "|1.32541254E9|4.58|4.58|4.58| 4.58|   0.0|2012-01-01 10:09:00|\n",
      "| 1.3254126E9|4.58|4.58|4.58| 4.58|   0.0|2012-01-01 10:10:00|\n",
      "|1.32541266E9|4.58|4.58|4.58| 4.58|   0.0|2012-01-01 10:11:00|\n",
      "|1.32541272E9|4.58|4.58|4.58| 4.58|   0.0|2012-01-01 10:12:00|\n",
      "|1.32541278E9|4.58|4.58|4.58| 4.58|   0.0|2012-01-01 10:13:00|\n",
      "|1.32541284E9|4.58|4.58|4.58| 4.58|   0.0|2012-01-01 10:14:00|\n",
      "| 1.3254129E9|4.58|4.58|4.58| 4.58|   0.0|2012-01-01 10:15:00|\n",
      "|1.32541296E9|4.58|4.58|4.58| 4.58|   0.0|2012-01-01 10:16:00|\n",
      "|1.32541302E9|4.58|4.58|4.58| 4.58|   0.0|2012-01-01 10:17:00|\n",
      "|1.32541308E9|4.58|4.58|4.58| 4.58|   0.0|2012-01-01 10:18:00|\n",
      "|1.32541314E9|4.58|4.58|4.58| 4.58|   0.0|2012-01-01 10:19:00|\n",
      "| 1.3254132E9|4.58|4.58|4.58| 4.58|   0.0|2012-01-01 10:20:00|\n",
      "+------------+----+----+----+-----+------+-------------------+\n",
      "only showing top 20 rows\n",
      "\n"
     ]
    },
    {
     "name": "stderr",
     "output_type": "stream",
     "text": [
      "                                                                                "
     ]
    },
    {
     "data": {
      "text/plain": [
       "6750280"
      ]
     },
     "execution_count": 13,
     "metadata": {},
     "output_type": "execute_result"
    }
   ],
   "source": [
    "# To use ANSI SQL query similar to RDBMS, you need to create a temporary table\n",
    "df.createOrReplaceTempView(\"bitstampUSD\") #creating a temp view table\n",
    "bitstampUSD = sqlContext.sql(\"select *,from_unixtime(Timestamp) as `dateTime` from bitstampUSD\")\n",
    "bitstampUSD = bitstampUSD.dropna(\"any\") # Removing NA values\n",
    "bitstampUSD.show()\n",
    "# Count total number of rows after removing the NA values\n",
    "bitstampUSD.count()"
   ]
  },
  {
   "cell_type": "code",
   "execution_count": 14,
   "metadata": {},
   "outputs": [
    {
     "name": "stdout",
     "output_type": "stream",
     "text": [
      "2011-12-31 07:52:00\n"
     ]
    }
   ],
   "source": [
    "from datetime import datetime\n",
    "ts = int(\"1325317920\")\n",
    "print(datetime.utcfromtimestamp(ts).strftime(\"%Y-%m-%d %H:%M:%S\"))"
   ]
  },
  {
   "cell_type": "code",
   "execution_count": 15,
   "metadata": {},
   "outputs": [
    {
     "name": "stderr",
     "output_type": "stream",
     "text": [
      "                                                                                "
     ]
    },
    {
     "name": "stdout",
     "output_type": "stream",
     "text": [
      "+------------+----+----+----+-----+------+-------------------+\n",
      "|   Timestamp|Open|High| Low|Close|Volume|           dateTime|\n",
      "+------------+----+----+----+-----+------+-------------------+\n",
      "|1.32541206E9|4.58|4.58|4.58| 4.58|   0.0|2012-01-01 10:01:00|\n",
      "|1.32541212E9|4.58|4.58|4.58| 4.58|   0.0|2012-01-01 10:02:00|\n",
      "|1.32541218E9|4.58|4.58|4.58| 4.58|   0.0|2012-01-01 10:03:00|\n",
      "|1.32541224E9|4.58|4.58|4.58| 4.58|   0.0|2012-01-01 10:04:00|\n",
      "| 1.3254123E9|4.58|4.58|4.58| 4.58|   0.0|2012-01-01 10:05:00|\n",
      "|1.32541236E9|4.58|4.58|4.58| 4.58|   0.0|2012-01-01 10:06:00|\n",
      "|1.32541242E9|4.58|4.58|4.58| 4.58|   0.0|2012-01-01 10:07:00|\n",
      "|1.32541248E9|4.58|4.58|4.58| 4.58|   0.0|2012-01-01 10:08:00|\n",
      "|1.32541254E9|4.58|4.58|4.58| 4.58|   0.0|2012-01-01 10:09:00|\n",
      "| 1.3254126E9|4.58|4.58|4.58| 4.58|   0.0|2012-01-01 10:10:00|\n",
      "|1.32541266E9|4.58|4.58|4.58| 4.58|   0.0|2012-01-01 10:11:00|\n",
      "|1.32541272E9|4.58|4.58|4.58| 4.58|   0.0|2012-01-01 10:12:00|\n",
      "|1.32541278E9|4.58|4.58|4.58| 4.58|   0.0|2012-01-01 10:13:00|\n",
      "|1.32541284E9|4.58|4.58|4.58| 4.58|   0.0|2012-01-01 10:14:00|\n",
      "| 1.3254129E9|4.58|4.58|4.58| 4.58|   0.0|2012-01-01 10:15:00|\n",
      "|1.32541296E9|4.58|4.58|4.58| 4.58|   0.0|2012-01-01 10:16:00|\n",
      "|1.32541302E9|4.58|4.58|4.58| 4.58|   0.0|2012-01-01 10:17:00|\n",
      "|1.32541308E9|4.58|4.58|4.58| 4.58|   0.0|2012-01-01 10:18:00|\n",
      "|1.32541314E9|4.58|4.58|4.58| 4.58|   0.0|2012-01-01 10:19:00|\n",
      "| 1.3254132E9|4.58|4.58|4.58| 4.58|   0.0|2012-01-01 10:20:00|\n",
      "+------------+----+----+----+-----+------+-------------------+\n",
      "only showing top 20 rows\n",
      "\n"
     ]
    },
    {
     "name": "stderr",
     "output_type": "stream",
     "text": [
      "[Stage 16:====================================>                     (5 + 3) / 8]"
     ]
    },
    {
     "name": "stdout",
     "output_type": "stream",
     "text": [
      "+-------+-----------------+\n",
      "|summary|           Volume|\n",
      "+-------+-----------------+\n",
      "|  count|          6750280|\n",
      "|   mean|5.456467631560916|\n",
      "| stddev|22.92005846584887|\n",
      "|    min|              0.0|\n",
      "|    25%|       0.01831557|\n",
      "|    50%|              0.5|\n",
      "|    75%|       3.17231868|\n",
      "|    max|    5853.85216588|\n",
      "+-------+-----------------+\n",
      "\n"
     ]
    },
    {
     "name": "stderr",
     "output_type": "stream",
     "text": [
      "                                                                                "
     ]
    }
   ],
   "source": [
    "# You can also use udf to do the same thing\n",
    "\n",
    "from pyspark.sql.functions import udf\n",
    "from pyspark.sql.types import StringType\n",
    "from datetime import datetime\n",
    "\n",
    "\n",
    "def unix_timestamp(ts):\n",
    "    try:\n",
    "        dt = datetime.utcfromtimestamp(ts).strftime(\"%Y-%m-%d %H:%M:%S\")\n",
    "    except ValueError:\n",
    "        # if you encounter a \"year is out of range\" error the timestamp\n",
    "        # may be in milliseconds, try `ts /= 1000` in that case\n",
    "        ts /= 1000\n",
    "        dt = datetime.utcfromtimestamp(ts).strftime(\"%Y-%m-%d %H:%M:%S\")\n",
    "    return dt\n",
    "\n",
    "# User-defined function. return type is a string.\n",
    "udf_unix_ts = udf(unix_timestamp, StringType())\n",
    "\n",
    "\n",
    "df_stamp = df.dropna(\"any\").withColumn(\"dateTime\", udf_unix_ts(\"Timestamp\"))\n",
    "\n",
    "df_stamp.show()\n",
    "\n",
    "df_stamp.count()\n",
    "\n",
    "df_stamp.select(\"Volume\").summary().show()\n",
    "\n",
    "# Looks a lot like a Pandas!"
   ]
  },
  {
   "cell_type": "code",
   "execution_count": 16,
   "metadata": {},
   "outputs": [],
   "source": [
    "#Renaming the columns \n",
    "bitstampUSD = bitstampUSD.withColumnRenamed(\"Volume\", \"VolBTC\") #.withColumnRenamed(\"Volume_(Currency)\", \"VolCurrency\")"
   ]
  },
  {
   "cell_type": "code",
   "execution_count": 17,
   "metadata": {},
   "outputs": [
    {
     "name": "stdout",
     "output_type": "stream",
     "text": [
      "+------------+----+----+----+-----+------+-------------------+\n",
      "|   Timestamp|Open|High| Low|Close|VolBTC|           dateTime|\n",
      "+------------+----+----+----+-----+------+-------------------+\n",
      "|1.32541206E9|4.58|4.58|4.58| 4.58|   0.0|2012-01-01 10:01:00|\n",
      "|1.32541212E9|4.58|4.58|4.58| 4.58|   0.0|2012-01-01 10:02:00|\n",
      "|1.32541218E9|4.58|4.58|4.58| 4.58|   0.0|2012-01-01 10:03:00|\n",
      "|1.32541224E9|4.58|4.58|4.58| 4.58|   0.0|2012-01-01 10:04:00|\n",
      "| 1.3254123E9|4.58|4.58|4.58| 4.58|   0.0|2012-01-01 10:05:00|\n",
      "|1.32541236E9|4.58|4.58|4.58| 4.58|   0.0|2012-01-01 10:06:00|\n",
      "|1.32541242E9|4.58|4.58|4.58| 4.58|   0.0|2012-01-01 10:07:00|\n",
      "|1.32541248E9|4.58|4.58|4.58| 4.58|   0.0|2012-01-01 10:08:00|\n",
      "|1.32541254E9|4.58|4.58|4.58| 4.58|   0.0|2012-01-01 10:09:00|\n",
      "| 1.3254126E9|4.58|4.58|4.58| 4.58|   0.0|2012-01-01 10:10:00|\n",
      "|1.32541266E9|4.58|4.58|4.58| 4.58|   0.0|2012-01-01 10:11:00|\n",
      "|1.32541272E9|4.58|4.58|4.58| 4.58|   0.0|2012-01-01 10:12:00|\n",
      "|1.32541278E9|4.58|4.58|4.58| 4.58|   0.0|2012-01-01 10:13:00|\n",
      "|1.32541284E9|4.58|4.58|4.58| 4.58|   0.0|2012-01-01 10:14:00|\n",
      "| 1.3254129E9|4.58|4.58|4.58| 4.58|   0.0|2012-01-01 10:15:00|\n",
      "|1.32541296E9|4.58|4.58|4.58| 4.58|   0.0|2012-01-01 10:16:00|\n",
      "|1.32541302E9|4.58|4.58|4.58| 4.58|   0.0|2012-01-01 10:17:00|\n",
      "|1.32541308E9|4.58|4.58|4.58| 4.58|   0.0|2012-01-01 10:18:00|\n",
      "|1.32541314E9|4.58|4.58|4.58| 4.58|   0.0|2012-01-01 10:19:00|\n",
      "| 1.3254132E9|4.58|4.58|4.58| 4.58|   0.0|2012-01-01 10:20:00|\n",
      "+------------+----+----+----+-----+------+-------------------+\n",
      "only showing top 20 rows\n",
      "\n"
     ]
    }
   ],
   "source": [
    "#Creating another dataframe to perform Datetime Visualization \n",
    "DateTime_df = bitstampUSD\n",
    "DateTime_df.show()"
   ]
  },
  {
   "cell_type": "code",
   "execution_count": 18,
   "metadata": {},
   "outputs": [
    {
     "name": "stdout",
     "output_type": "stream",
     "text": [
      "root\n",
      " |-- Timestamp: double (nullable = true)\n",
      " |-- Open: double (nullable = true)\n",
      " |-- High: double (nullable = true)\n",
      " |-- Low: double (nullable = true)\n",
      " |-- Close: double (nullable = true)\n",
      " |-- VolBTC: double (nullable = true)\n",
      " |-- dateTime: string (nullable = true)\n",
      " |-- date: string (nullable = true)\n",
      " |-- time: string (nullable = true)\n",
      "\n",
      "+------------+----+----+----+-----+------+-------------------+----------+--------+\n",
      "|   Timestamp|Open|High| Low|Close|VolBTC|           dateTime|      date|    time|\n",
      "+------------+----+----+----+-----+------+-------------------+----------+--------+\n",
      "|1.32541206E9|4.58|4.58|4.58| 4.58|   0.0|2012-01-01 10:01:00|2012-01-01|10:01:00|\n",
      "|1.32541212E9|4.58|4.58|4.58| 4.58|   0.0|2012-01-01 10:02:00|2012-01-01|10:02:00|\n",
      "|1.32541218E9|4.58|4.58|4.58| 4.58|   0.0|2012-01-01 10:03:00|2012-01-01|10:03:00|\n",
      "|1.32541224E9|4.58|4.58|4.58| 4.58|   0.0|2012-01-01 10:04:00|2012-01-01|10:04:00|\n",
      "| 1.3254123E9|4.58|4.58|4.58| 4.58|   0.0|2012-01-01 10:05:00|2012-01-01|10:05:00|\n",
      "|1.32541236E9|4.58|4.58|4.58| 4.58|   0.0|2012-01-01 10:06:00|2012-01-01|10:06:00|\n",
      "|1.32541242E9|4.58|4.58|4.58| 4.58|   0.0|2012-01-01 10:07:00|2012-01-01|10:07:00|\n",
      "|1.32541248E9|4.58|4.58|4.58| 4.58|   0.0|2012-01-01 10:08:00|2012-01-01|10:08:00|\n",
      "|1.32541254E9|4.58|4.58|4.58| 4.58|   0.0|2012-01-01 10:09:00|2012-01-01|10:09:00|\n",
      "| 1.3254126E9|4.58|4.58|4.58| 4.58|   0.0|2012-01-01 10:10:00|2012-01-01|10:10:00|\n",
      "|1.32541266E9|4.58|4.58|4.58| 4.58|   0.0|2012-01-01 10:11:00|2012-01-01|10:11:00|\n",
      "|1.32541272E9|4.58|4.58|4.58| 4.58|   0.0|2012-01-01 10:12:00|2012-01-01|10:12:00|\n",
      "|1.32541278E9|4.58|4.58|4.58| 4.58|   0.0|2012-01-01 10:13:00|2012-01-01|10:13:00|\n",
      "|1.32541284E9|4.58|4.58|4.58| 4.58|   0.0|2012-01-01 10:14:00|2012-01-01|10:14:00|\n",
      "| 1.3254129E9|4.58|4.58|4.58| 4.58|   0.0|2012-01-01 10:15:00|2012-01-01|10:15:00|\n",
      "|1.32541296E9|4.58|4.58|4.58| 4.58|   0.0|2012-01-01 10:16:00|2012-01-01|10:16:00|\n",
      "|1.32541302E9|4.58|4.58|4.58| 4.58|   0.0|2012-01-01 10:17:00|2012-01-01|10:17:00|\n",
      "|1.32541308E9|4.58|4.58|4.58| 4.58|   0.0|2012-01-01 10:18:00|2012-01-01|10:18:00|\n",
      "|1.32541314E9|4.58|4.58|4.58| 4.58|   0.0|2012-01-01 10:19:00|2012-01-01|10:19:00|\n",
      "| 1.3254132E9|4.58|4.58|4.58| 4.58|   0.0|2012-01-01 10:20:00|2012-01-01|10:20:00|\n",
      "+------------+----+----+----+-----+------+-------------------+----------+--------+\n",
      "only showing top 20 rows\n",
      "\n",
      "+------------+----+----+----+-----+------+----------+----------+--------+----+-----------+----+\n",
      "|   Timestamp|Open|High| Low|Close|VolBTC|  dateTime|      date|    time|hour|day_of_week|year|\n",
      "+------------+----+----+----+-----+------+----------+----------+--------+----+-----------+----+\n",
      "|1.32541206E9|4.58|4.58|4.58| 4.58|   0.0|2012-01-01|2012-01-01|10:01:00|10.0|          1|2012|\n",
      "|1.32541212E9|4.58|4.58|4.58| 4.58|   0.0|2012-01-01|2012-01-01|10:02:00|10.0|          1|2012|\n",
      "|1.32541218E9|4.58|4.58|4.58| 4.58|   0.0|2012-01-01|2012-01-01|10:03:00|10.0|          1|2012|\n",
      "|1.32541224E9|4.58|4.58|4.58| 4.58|   0.0|2012-01-01|2012-01-01|10:04:00|10.0|          1|2012|\n",
      "| 1.3254123E9|4.58|4.58|4.58| 4.58|   0.0|2012-01-01|2012-01-01|10:05:00|10.0|          1|2012|\n",
      "|1.32541236E9|4.58|4.58|4.58| 4.58|   0.0|2012-01-01|2012-01-01|10:06:00|10.0|          1|2012|\n",
      "|1.32541242E9|4.58|4.58|4.58| 4.58|   0.0|2012-01-01|2012-01-01|10:07:00|10.0|          1|2012|\n",
      "|1.32541248E9|4.58|4.58|4.58| 4.58|   0.0|2012-01-01|2012-01-01|10:08:00|10.0|          1|2012|\n",
      "|1.32541254E9|4.58|4.58|4.58| 4.58|   0.0|2012-01-01|2012-01-01|10:09:00|10.0|          1|2012|\n",
      "| 1.3254126E9|4.58|4.58|4.58| 4.58|   0.0|2012-01-01|2012-01-01|10:10:00|10.0|          1|2012|\n",
      "|1.32541266E9|4.58|4.58|4.58| 4.58|   0.0|2012-01-01|2012-01-01|10:11:00|10.0|          1|2012|\n",
      "|1.32541272E9|4.58|4.58|4.58| 4.58|   0.0|2012-01-01|2012-01-01|10:12:00|10.0|          1|2012|\n",
      "|1.32541278E9|4.58|4.58|4.58| 4.58|   0.0|2012-01-01|2012-01-01|10:13:00|10.0|          1|2012|\n",
      "|1.32541284E9|4.58|4.58|4.58| 4.58|   0.0|2012-01-01|2012-01-01|10:14:00|10.0|          1|2012|\n",
      "| 1.3254129E9|4.58|4.58|4.58| 4.58|   0.0|2012-01-01|2012-01-01|10:15:00|10.0|          1|2012|\n",
      "|1.32541296E9|4.58|4.58|4.58| 4.58|   0.0|2012-01-01|2012-01-01|10:16:00|10.0|          1|2012|\n",
      "|1.32541302E9|4.58|4.58|4.58| 4.58|   0.0|2012-01-01|2012-01-01|10:17:00|10.0|          1|2012|\n",
      "|1.32541308E9|4.58|4.58|4.58| 4.58|   0.0|2012-01-01|2012-01-01|10:18:00|10.0|          1|2012|\n",
      "|1.32541314E9|4.58|4.58|4.58| 4.58|   0.0|2012-01-01|2012-01-01|10:19:00|10.0|          1|2012|\n",
      "| 1.3254132E9|4.58|4.58|4.58| 4.58|   0.0|2012-01-01|2012-01-01|10:20:00|10.0|          1|2012|\n",
      "+------------+----+----+----+-----+------+----------+----------+--------+----+-----------+----+\n",
      "only showing top 20 rows\n",
      "\n"
     ]
    }
   ],
   "source": [
    "#Splitting dateTime to date and time\n",
    "splitDF = DateTime_df.withColumn(\"date\",split(col(\"dateTime\"),\" \").getItem(0))\n",
    "splitDF = splitDF.withColumn(\"time\",split(col(\"dateTime\"),\" \").getItem(1))\n",
    "splitDF.printSchema()\n",
    "splitDF.show()\n",
    "\n",
    "#Splitting hours from time\n",
    "splitDFHour = splitDF.withColumn(\"hour\",split(col(\"time\"),\":\").getItem(0))\n",
    "#splitDFHour.printSchema()\n",
    "#splitDFHour.show()\n",
    "\n",
    "#Arranging Dataframe with column date and time and day_of_week\n",
    "splitDFHour= splitDFHour.withColumn(\"date\",splitDFHour[\"date\"].cast(DateType())).withColumn(\"hour\",splitDFHour[\"hour\"].cast(DoubleType())).withColumn(\"dateTime\",splitDFHour[\"dateTime\"].cast(DateType()))\n",
    "splitDFHour=splitDFHour.withColumn(\"day_of_week\",dayofweek(splitDFHour.date))\n",
    "#splitDFHour.printSchema()\n",
    "#splitDFHour.show()\n",
    "\n",
    "#Arranging Dataframe with column date and time and year\n",
    "splitDFWithYear = splitDFHour.withColumn(\"year\",split(col(\"date\"),\"-\").getItem(0))\n",
    "splitDFWithYear.show()"
   ]
  },
  {
   "cell_type": "code",
   "execution_count": 19,
   "metadata": {},
   "outputs": [
    {
     "name": "stdout",
     "output_type": "stream",
     "text": [
      "+------------+----+----+----+-----+------+-------------------+----------+--------+----+-----------+----+\n",
      "|   Timestamp|Open|High| Low|Close|VolBTC|           dateTime|      date|    time|hour|day_of_week|year|\n",
      "+------------+----+----+----+-----+------+-------------------+----------+--------+----+-----------+----+\n",
      "|1.32541206E9|4.58|4.58|4.58| 4.58|   0.0|2012-01-01 10:01:00|2012-01-01|10:01:00|  10|          1|2012|\n",
      "|1.32541212E9|4.58|4.58|4.58| 4.58|   0.0|2012-01-01 10:02:00|2012-01-01|10:02:00|  10|          1|2012|\n",
      "|1.32541218E9|4.58|4.58|4.58| 4.58|   0.0|2012-01-01 10:03:00|2012-01-01|10:03:00|  10|          1|2012|\n",
      "|1.32541224E9|4.58|4.58|4.58| 4.58|   0.0|2012-01-01 10:04:00|2012-01-01|10:04:00|  10|          1|2012|\n",
      "| 1.3254123E9|4.58|4.58|4.58| 4.58|   0.0|2012-01-01 10:05:00|2012-01-01|10:05:00|  10|          1|2012|\n",
      "|1.32541236E9|4.58|4.58|4.58| 4.58|   0.0|2012-01-01 10:06:00|2012-01-01|10:06:00|  10|          1|2012|\n",
      "|1.32541242E9|4.58|4.58|4.58| 4.58|   0.0|2012-01-01 10:07:00|2012-01-01|10:07:00|  10|          1|2012|\n",
      "|1.32541248E9|4.58|4.58|4.58| 4.58|   0.0|2012-01-01 10:08:00|2012-01-01|10:08:00|  10|          1|2012|\n",
      "|1.32541254E9|4.58|4.58|4.58| 4.58|   0.0|2012-01-01 10:09:00|2012-01-01|10:09:00|  10|          1|2012|\n",
      "| 1.3254126E9|4.58|4.58|4.58| 4.58|   0.0|2012-01-01 10:10:00|2012-01-01|10:10:00|  10|          1|2012|\n",
      "|1.32541266E9|4.58|4.58|4.58| 4.58|   0.0|2012-01-01 10:11:00|2012-01-01|10:11:00|  10|          1|2012|\n",
      "|1.32541272E9|4.58|4.58|4.58| 4.58|   0.0|2012-01-01 10:12:00|2012-01-01|10:12:00|  10|          1|2012|\n",
      "|1.32541278E9|4.58|4.58|4.58| 4.58|   0.0|2012-01-01 10:13:00|2012-01-01|10:13:00|  10|          1|2012|\n",
      "|1.32541284E9|4.58|4.58|4.58| 4.58|   0.0|2012-01-01 10:14:00|2012-01-01|10:14:00|  10|          1|2012|\n",
      "| 1.3254129E9|4.58|4.58|4.58| 4.58|   0.0|2012-01-01 10:15:00|2012-01-01|10:15:00|  10|          1|2012|\n",
      "|1.32541296E9|4.58|4.58|4.58| 4.58|   0.0|2012-01-01 10:16:00|2012-01-01|10:16:00|  10|          1|2012|\n",
      "|1.32541302E9|4.58|4.58|4.58| 4.58|   0.0|2012-01-01 10:17:00|2012-01-01|10:17:00|  10|          1|2012|\n",
      "|1.32541308E9|4.58|4.58|4.58| 4.58|   0.0|2012-01-01 10:18:00|2012-01-01|10:18:00|  10|          1|2012|\n",
      "|1.32541314E9|4.58|4.58|4.58| 4.58|   0.0|2012-01-01 10:19:00|2012-01-01|10:19:00|  10|          1|2012|\n",
      "| 1.3254132E9|4.58|4.58|4.58| 4.58|   0.0|2012-01-01 10:20:00|2012-01-01|10:20:00|  10|          1|2012|\n",
      "+------------+----+----+----+-----+------+-------------------+----------+--------+----+-----------+----+\n",
      "only showing top 20 rows\n",
      "\n"
     ]
    }
   ],
   "source": [
    "# you can also do this using the built-in function in pyspark.sql\n",
    "# explore more on pyspark.sql.functions APIs\n",
    "splitDF.withColumn(\"hour\",pyspark.sql.functions.hour(\"time\"))\\\n",
    "       .withColumn(\"day_of_week\",pyspark.sql.functions.dayofweek(\"date\"))\\\n",
    "       .withColumn(\"year\",pyspark.sql.functions.year(\"date\"))\\\n",
    "       .show()"
   ]
  },
  {
   "cell_type": "code",
   "execution_count": 20,
   "metadata": {},
   "outputs": [
    {
     "name": "stderr",
     "output_type": "stream",
     "text": [
      "                                                                                "
     ]
    }
   ],
   "source": [
    "# Spark to Pandas dataframe\n",
    "pandas_converted = splitDFWithYear.filter(\"year == 2012\").toPandas()"
   ]
  },
  {
   "cell_type": "code",
   "execution_count": 21,
   "metadata": {},
   "outputs": [],
   "source": [
    "# Getting the values in list so that we can plot and visualize it\n",
    "hour = pandas_converted[\"hour\"].values.tolist()\n",
    "# weighted_price = pandas_converted[\"Weighted_Price\"].values.tolist()\n",
    "volume_BTC = pandas_converted[\"VolBTC\"].values.tolist()\n",
    "date_of_week = pandas_converted[\"day_of_week\"].values.tolist()\n",
    "year = pandas_converted[\"year\"].values.tolist()"
   ]
  },
  {
   "cell_type": "code",
   "execution_count": 22,
   "metadata": {},
   "outputs": [
    {
     "name": "stderr",
     "output_type": "stream",
     "text": [
      "                                                                                "
     ]
    }
   ],
   "source": [
    "# you can save table as csv file for later use \n",
    "splitDFWithYear.write.format(\"csv\").save(\"hdfs://192.168.2.251:9000/outputs/bitcoin_with_splitted_date_year_2012.csv\", mode=\"overwrite\")"
   ]
  },
  {
   "cell_type": "markdown",
   "metadata": {},
   "source": [
    "# Data Visualization"
   ]
  },
  {
   "cell_type": "code",
   "execution_count": 23,
   "metadata": {},
   "outputs": [],
   "source": [
    "import seaborn as sns\n",
    "import matplotlib.pyplot as plt\n",
    "#visualization\n",
    "from IPython.core.interactiveshell import InteractiveShell\n",
    "InteractiveShell.ast_node_interactivity = \"all\"\n",
    "\n",
    "pd.set_option(\"display.max_columns\", 200)\n",
    "pd.set_option(\"display.max_colwidth\", 400)\n",
    "\n",
    "from matplotlib import rcParams\n",
    "sns.set(context=\"notebook\", style=\"whitegrid\", rc={\"figure.figsize\": (18,4)})\n",
    "rcParams[\"figure.figsize\"] = 18,4\n",
    "\n",
    "%matplotlib inline\n",
    "%config InlineBackend.figure_format = \"retina\""
   ]
  },
  {
   "cell_type": "code",
   "execution_count": 24,
   "metadata": {},
   "outputs": [],
   "source": [
    "#Correlation plotting the heatmap using Seaborn\n",
    "# corr = pandas_converted.corr()\n",
    "# f,ax = plt.subplots(figsize=(12, 12))\n",
    "# sns.heatmap(corr, annot=True, linewidths=.5, fmt= \".1f\", ax=ax)"
   ]
  },
  {
   "cell_type": "code",
   "execution_count": 25,
   "metadata": {},
   "outputs": [
    {
     "data": {
      "text/plain": [
       "<Axes: xlabel='dateTime'>"
      ]
     },
     "execution_count": 25,
     "metadata": {},
     "output_type": "execute_result"
    },
    {
     "data": {
      "text/plain": [
       "Text(0.5, 0, 'DateTime')"
      ]
     },
     "execution_count": 25,
     "metadata": {},
     "output_type": "execute_result"
    },
    {
     "data": {
      "text/plain": [
       "Text(0, 0.5, 'BTC Volume')"
      ]
     },
     "execution_count": 25,
     "metadata": {},
     "output_type": "execute_result"
    },
    {
     "data": {
      "text/plain": [
       "Text(0.5, 1.0, 'BTC Trading Volume by day')"
      ]
     },
     "execution_count": 25,
     "metadata": {},
     "output_type": "execute_result"
    },
    {
     "data": {
      "image/png": "[encoded data removed]",
      "text/plain": [
       "<Figure size 1800x400 with 1 Axes>"
      ]
     },
     "metadata": {
      "image/png": {
       "height": 399,
       "width": 1489
      }
     },
     "output_type": "display_data"
    }
   ],
   "source": [
    "# Line Plot usage by Matplotlib\n",
    "# x = open, y = close\n",
    "pandas_converted.plot(kind=\"line\", x=\"dateTime\", y=\"VolBTC\",alpha = 0.5)\n",
    "plt.xlabel(\"DateTime\")            \n",
    "plt.ylabel(\"BTC Volume\")\n",
    "plt.title(\"BTC Trading Volume by day\") \n",
    "plt.show()"
   ]
  },
  {
   "cell_type": "code",
   "execution_count": null,
   "metadata": {},
   "outputs": [
    {
     "data": {
      "text/plain": [
       "<Figure size 1600x400 with 0 Axes>"
      ]
     },
     "execution_count": 26,
     "metadata": {},
     "output_type": "execute_result"
    }
   ],
   "source": [
    "# Line Plot usage by Matplotlib plotting Open with High with Time on X axis\n",
    "# color = color, label = label, linewidth = width of line, alpha = opacity, grid = gray square background, linestyle = sytle of line\n",
    "\n",
    "plt.figure(figsize=(16,4))\n",
    "plt.xticks(pandas_converted.dateTime)\n",
    "pandas_converted.Open.plot(kind=\"line\", color=\"r\", label=\"Open\", alpha=0.5, linewidth=5, grid=True, linestyle=\":\")\n",
    "pandas_converted.High.plot(color=\"g\", label=\"High\", linewidth=1, alpha=0.5, grid=True, linestyle=\"-.\")\n",
    "plt.legend(loc=\"upper right\") #legend put label into plot\n",
    "plt.xlabel(\"DateTime\")\n",
    "plt.ylabel(\"price at the start of the time window\")\n",
    "plt.title(\"Line plot\")\n",
    "plt.show()"
   ]
  },
  {
   "cell_type": "code",
   "execution_count": null,
   "metadata": {},
   "outputs": [],
   "source": [
    "#Histogram plot of Open price\n",
    "pandas_converted.Open.plot(kind=\"hist\", bins=50)"
   ]
  },
  {
   "cell_type": "code",
   "execution_count": null,
   "metadata": {},
   "outputs": [],
   "source": [
    "#Plot of Weighted_price per hour in scatter plot using Matplotlib\n",
    "plt.plot(hour,weighted_price , \"bo\")\n",
    "#group1_pd.plot(kind=\"scatter\", x=\"hour\", y=\"Weighted_Price\",alpha = 0.01)\n",
    "plt.xlabel(\"hour\")            \n",
    "plt.ylabel(\"Weighted_Price\")\n",
    "plt.title(\"Price by Hour\") \n",
    "plt.show()"
   ]
  },
  {
   "cell_type": "code",
   "execution_count": null,
   "metadata": {},
   "outputs": [],
   "source": [
    "#Plot of Weighted_price per week in scatter plot using Matplotlib\n",
    "plt.plot(date_of_week, weighted_price, \"ro\")\n",
    "#group1_pd.plot(kind=\"scatter\", x=\"hour\", y=\"Weighted_Price\",alpha = 0.01)\n",
    "plt.xlabel(\"day_of_week\")            \n",
    "plt.ylabel(\"Weighted_Price\")\n",
    "plt.title(\"Price By Week\") \n",
    "plt.show()"
   ]
  },
  {
   "cell_type": "code",
   "execution_count": null,
   "metadata": {},
   "outputs": [],
   "source": [
    "#Plot of VolBTC per hour change displayed in scatter plot using Matplotlib\n",
    "plt.plot(hour, volume_BTC, \"g*\")\n",
    "#group1_pd.plot(kind=\"scatter\", x=\"hour\", y=\"Weighted_Price\",alpha = 0.01)\n",
    "plt.xlabel(\"hour\")            \n",
    "plt.ylabel(\"VolBTC\")\n",
    "plt.title(\"Volume by Hour of day\") \n",
    "plt.show()"
   ]
  },
  {
   "cell_type": "code",
   "execution_count": null,
   "metadata": {},
   "outputs": [],
   "source": [
    "#Plot of VolBTC per day_of_Week change displayed in scatter plot using Matplotlib\n",
    "plt.plot(date_of_week,volume_BTC , \"r*\")\n",
    "plt.xlabel(\"day_of_week\")            \n",
    "plt.ylabel(\"VolBTC\")\n",
    "plt.title(\"Volume By Week\") \n",
    "plt.show()"
   ]
  },
  {
   "cell_type": "code",
   "execution_count": null,
   "metadata": {},
   "outputs": [],
   "source": [
    "#Plot of Price per year change displayed in scatter plot using Matplotlib\n",
    "plt.plot(year,weighted_price , \"m^\")\n",
    "plt.xlabel(\"year\")            \n",
    "plt.ylabel(\"Weighted_Price\")\n",
    "plt.title(\"Weighted Price plotted yearly basis\") \n",
    "plt.show()"
   ]
  },
  {
   "cell_type": "code",
   "execution_count": null,
   "metadata": {},
   "outputs": [],
   "source": [
    "#Plot of Price per year change displayed in scatter plot using Matplotlib\n",
    "plt.plot(year,volume_BTC , \"kD\")\n",
    "plt.xlabel(\"year\")            \n",
    "plt.ylabel(\"volume_BTC\")\n",
    "plt.title(\"volume_BTC plotted yearly basis\") \n",
    "plt.show()"
   ]
  },
  {
   "cell_type": "markdown",
   "metadata": {},
   "source": [
    "# Feature Engineering/Extraction\n",
    "**Use a VectorAssembler to put features into a feature vector column**\n",
    "\n",
    "We have generated enough information post preprocessing our data to feed it to the model.\n",
    "All missing values, zero values have been excluded from the data set.\n",
    "Next we will normalize our data (as minimize the ranges between Min and max values)."
   ]
  },
  {
   "cell_type": "code",
   "execution_count": null,
   "metadata": {},
   "outputs": [],
   "source": [
    "from pyspark.ml.linalg import Vectors\n",
    "from pyspark.ml.feature import StringIndexer\n",
    "from pyspark.ml.regression import LinearRegression\n",
    "from pyspark.mllib.evaluation import RegressionMetrics\n",
    "from pyspark.ml.stat import Correlation\n",
    "from pyspark.ml.feature import MinMaxScaler\n",
    "from pyspark.ml.feature import VectorAssembler\n",
    "from pyspark.ml import Pipeline\n",
    "from pyspark.ml.tuning import ParamGridBuilder, CrossValidator, CrossValidatorModel\n",
    "from pyspark.ml.feature import VectorAssembler, StandardScaler\n",
    "from pyspark.ml.evaluation import RegressionEvaluator"
   ]
  },
  {
   "cell_type": "code",
   "execution_count": null,
   "metadata": {},
   "outputs": [],
   "source": [
    "# put features into a feature vector column\n",
    "assembler = VectorAssembler(inputCols=[\"Open\",\"High\", \"VolBTC\", \"VolCurrency\",\"Weighted_Price\"], outputCol=\"features\")\n",
    "assembled_df = assembler.transform(bitstampUSD)\n",
    "assembled_df.show(10, truncate= False)"
   ]
  },
  {
   "cell_type": "markdown",
   "metadata": {},
   "source": [
    "The result displays that the features have transformed into a Dense Vector."
   ]
  },
  {
   "cell_type": "markdown",
   "metadata": {},
   "source": [
    "# Normalization"
   ]
  },
  {
   "cell_type": "markdown",
   "metadata": {},
   "source": [
    "Now we can scale the data using Min_Max_Scaler. The input columns are the features, and the output column with the rescaled that will be included in the scaled_df will be named \"scaled_features\"."
   ]
  },
  {
   "cell_type": "code",
   "execution_count": null,
   "metadata": {},
   "outputs": [],
   "source": [
    "# Initialize the `Min_Max_scaler`\n",
    "Min_Max_scaler = MinMaxScaler(inputCol=\"features\", outputCol=\"scaled_features\")\n",
    "# Fit the DataFrame to the scaler\n",
    "scaled_df= Min_Max_scaler.fit(assembled_df).transform(assembled_df)\n",
    "# Inspect the result\n",
    "scaled_df.select(\"features\", \"scaled_features\").show(10, truncate=False)\n",
    "scaled_df.columns"
   ]
  },
  {
   "cell_type": "markdown",
   "metadata": {},
   "source": [
    "# Building A Machine Learning Model With Spark ML"
   ]
  },
  {
   "cell_type": "markdown",
   "metadata": {},
   "source": [
    "As we have finished the preprocessing of our data, now we build our Linear Regression model. We first need to split the data into train and test sets, using the randomSplit() method:"
   ]
  },
  {
   "cell_type": "code",
   "execution_count": null,
   "metadata": {},
   "outputs": [],
   "source": [
    "# Split the data into train,test and Validation sets\n",
    "train_data, test_data = scaled_df.randomSplit([.7,.3], seed=rnd_seed)"
   ]
  },
  {
   "cell_type": "markdown",
   "metadata": {},
   "source": [
    "**Now we create an ElacticNet Linear Regression Model**\n",
    "\n",
    "ElasticNet is a linear regression model trained with both l1 and l2 -norm regularization of the coefficients. This combination allows for learning a sparse model where few of the weights are non-zero like Lasso, while still maintaining the regularization properties of Ridge. We control the convex combination of l1 and l2 using the l1_ratio parameter.\n",
    "Elastic-net is useful when there are multiple features which are correlated with one another. Lasso is likely to pick one of these at random, while elastic-net is likely to pick both.\n",
    "Source: https://scikit-learn.org/stable/modules/linear_model.html#elastic-net"
   ]
  },
  {
   "cell_type": "code",
   "execution_count": null,
   "metadata": {},
   "outputs": [],
   "source": [
    "# Initialize `lr`\n",
    "lr = (LinearRegression(featuresCol=\"scaled_features\" , labelCol=\"Weighted_Price\", predictionCol=\"Predicted_price\", \n",
    "                               maxIter=100, regParam=0.3, elasticNetParam=0.8, standardization=False))"
   ]
  },
  {
   "cell_type": "code",
   "execution_count": null,
   "metadata": {},
   "outputs": [],
   "source": [
    "# Fit the data to the model\n",
    "linearModel = lr.fit(train_data)"
   ]
  },
  {
   "cell_type": "markdown",
   "metadata": {},
   "source": [
    "**Generate Predictions**"
   ]
  },
  {
   "cell_type": "code",
   "execution_count": null,
   "metadata": {},
   "outputs": [],
   "source": [
    "# Generate predictions\n",
    "predictions = linearModel.transform(test_data)\n",
    "# Select the columns and store in a variable\n",
    "pred_data= predictions.select(\"Predicted_price\", \"Weighted_Price\").show(20)"
   ]
  },
  {
   "cell_type": "markdown",
   "metadata": {},
   "source": [
    "**Inspect the Metrics**\n",
    "\n",
    "Now we look at some metrics to get a better idea of how good the model is performing actually. We will use Regression Evaluator and LinearRegressionModel.summary attribute to pull up the rootMeanSquaredError.\n",
    "The rMSE measures how much error there is between two datasets comparing a predicted value and an observed or known value. The smaller an rMSE value, the closer predicted and observed values are."
   ]
  },
  {
   "cell_type": "code",
   "execution_count": null,
   "metadata": {},
   "outputs": [],
   "source": [
    "# Select (predicted_price, Weighted_price label) and compute test error\n",
    "evaluator = RegressionEvaluator(\n",
    "    labelCol=\"Weighted_Price\", predictionCol=\"Predicted_price\", metricName=\"rmse\")\n",
    "rmse = evaluator.evaluate(predictions)\n",
    "print(\"Root Mean Squared Error (RMSE) on test data = %g\" % rmse)"
   ]
  },
  {
   "cell_type": "code",
   "execution_count": null,
   "metadata": {},
   "outputs": [],
   "source": [
    "#Inspect and Model the metrics and Coefficient and Visualize the log of the training error as a function of iteration. \n",
    "#The scatter plot visualizes the logarithm of the training error for all 10 iterations.\n",
    "\n",
    "iterations = list(range(0,linearModel.summary.totalIterations + 1))\n",
    "lossHistory = np.log(linearModel.summary.objectiveHistory)\n",
    "plt.plot(iterations,lossHistory,\"*\")\n",
    "plt.title(\"Log Training Error vs. Iterations\")\n",
    "plt.ylabel(\"Log Training Error\")\n",
    "plt.xlabel(\"Iterations\")\n",
    "# Intercept for the model\n",
    "print(\"MAE: {0}\".format(linearModel.summary.meanAbsoluteError))"
   ]
  },
  {
   "cell_type": "code",
   "execution_count": null,
   "metadata": {},
   "outputs": [],
   "source": [
    "# Use the method \"predict\" to predict an output on the polynomial features,\n",
    "# then use the function \"DistributionPlot\" to display the distribution of the Predicted_Price vs the Weighted_Price from the test data\n",
    "\n",
    "pred_results=linearModel.evaluate(test_data)\n",
    "Y = pred_results.predictions.select(\"Weighted_Price\").toPandas()\n",
    "_Y = pred_results.predictions.select(\"Predicted_price\").toPandas()\n",
    "sns.set_style(\"dark\")\n",
    "ax1= sns.distplot(Y, hist=False, color=\"r\", label=\"Actual Values\")\n",
    "sns.distplot(_Y, hist=False, color=\"b\", label=\"Fitted Values\" , ax=ax1)"
   ]
  },
  {
   "cell_type": "code",
   "execution_count": null,
   "metadata": {},
   "outputs": [],
   "source": [
    "#Plotting Weighted_price vs Predicted_price using Matplotlib\n",
    "plt.figure(figsize=(12,7))\n",
    "plt.plot(Y, color=\"green\", marker=\"*\", linestyle=\"dashed\", \n",
    "         label=\"Predicted Price\")\n",
    "plt.plot(_Y, color=\"red\", label=\"Weighted Price\")\n",
    "plt.title(\"BitCoin Weighted Prediction\")\n",
    "plt.xlabel(\"Weighted_Price\")\n",
    "plt.ylabel(\"Predicted_price\")\n",
    "plt.legend()"
   ]
  },
  {
   "cell_type": "code",
   "execution_count": null,
   "metadata": {},
   "outputs": [],
   "source": [
    "spark_session.stop()"
   ]
  }
 ],
 "metadata": {
  "kernelspec": {
   "display_name": "Python 3 (ipykernel)",
   "language": "python",
   "name": "python3"
  },
  "language_info": {
   "codemirror_mode": {
    "name": "ipython",
    "version": 3
   },
   "file_extension": ".py",
   "mimetype": "text/x-python",
   "name": "python",
   "nbconvert_exporter": "python",
   "pygments_lexer": "ipython3",
   "version": "3.10.12"
  },
  "toc": {
   "base_numbering": 1
  }
 },
 "nbformat": 4,
 "nbformat_minor": 4
}
