{
 "cells": [
  {
   "cell_type": "code",
   "execution_count": 1,
   "id": "6030e917",
   "metadata": {
    "editable": true,
    "slideshow": {
     "slide_type": ""
    },
    "tags": []
   },
   "outputs": [
    {
     "name": "stdout",
     "output_type": "stream",
     "text": [
      "['hello', 'my', 'name', 'is...']\n",
      "my\n",
      "4\n"
     ]
    }
   ],
   "source": [
    "# Use of .split( )\n",
    "\n",
    "line_of_text = \"hello my name is...\"\n",
    "words = line_of_text.split(\" \")\n",
    "\n",
    "print(words)\n",
    "print(words[1])\n",
    "print(len(words))"
   ]
  },
  {
   "cell_type": "code",
   "execution_count": 2,
   "id": "d523249f",
   "metadata": {},
   "outputs": [
    {
     "name": "stdout",
     "output_type": "stream",
     "text": [
      "1681\n"
     ]
    }
   ],
   "source": [
    "# Count the words in a file...conventional code.\n",
    "\n",
    "number_words = 0\n",
    "with open(\"/home/ubuntu/DE1-Spark/DE-2025/data/others/i_have_a_dream.txt\") as file:\n",
    "    line = file.readline()\n",
    "    while line:\n",
    "        number_words += len(line.split(\" \"))\n",
    "        line = file.readline()\n",
    "    \n",
    "print(number_words)"
   ]
  },
  {
   "cell_type": "code",
   "execution_count": 3,
   "id": "61397c4a",
   "metadata": {
    "editable": true,
    "slideshow": {
     "slide_type": ""
    },
    "tags": []
   },
   "outputs": [
    {
     "name": "stdout",
     "output_type": "stream",
     "text": [
      "[['I', 'am', 'happy', 'to', 'join', 'with', 'you', 'today', 'in', 'what', 'will', 'go', 'down', 'in', 'history', 'as\\n'], ['the', 'greatest', 'demonstration', 'for', 'freedom', 'in', 'the', 'history', 'of', 'our', 'nation.\\n']]\n",
      "[16, 11, 12, 8, 13, 12, 13, 13, 13, 10, 13, 12, 12, 14, 5, 14, 11, 10, 12, 15, 10, 11, 11, 9, 14, 2, 13, 11, 13, 14, 4, 13, 14, 12, 14, 12, 14, 11, 13, 13, 9, 12, 11, 15, 12, 12, 11, 12, 5, 15, 12, 12, 13, 12, 12, 10, 12, 4, 10, 15, 11, 13, 12, 1, 4, 15, 4, 12, 14, 12, 13, 12, 13, 14, 12, 12, 13, 15, 12, 10, 15, 11, 14, 11, 12, 11, 11, 13, 13, 8, 16, 13, 14, 16, 12, 6, 16, 14, 7, 14, 11, 11, 15, 15, 5, 5, 13, 12, 10, 13, 10, 5, 14, 13, 13, 12, 17, 15, 14, 10, 12, 12, 12, 18, 8, 14, 11, 7, 13, 12, 11, 10, 10, 10, 4, 9, 9, 11, 7, 14, 12, 15, 11, 15, 1, 7, 9]\n",
      "total words= 1681\n"
     ]
    }
   ],
   "source": [
    "# Count the words in a file ... with map( ) and reduce( ) ... without Spark!\n",
    "from functools import reduce\n",
    "from operator import add\n",
    "\n",
    "# Think instead in terms of \"map\" and \"reduce\"\n",
    "with open(\"/home/ubuntu/DE1-Spark/DE-2025/data/others/i_have_a_dream.txt\") as file:\n",
    "    lines = file.readlines()\n",
    "    #print(lines)\n",
    "    \n",
    "    words = list(map(lambda line: line.split(\" \"), lines))\n",
    "    print(words[0:2])\n",
    "    \n",
    "    word_counts = list(map(lambda w: len(w), words))\n",
    "    print(word_counts)\n",
    "    \n",
    "    total_words = reduce(add, word_counts)\n",
    "    print(f\"total words= {total_words}\")    \n"
   ]
  },
  {
   "cell_type": "code",
   "execution_count": 4,
   "id": "5fe30adf",
   "metadata": {},
   "outputs": [],
   "source": [
    "# ... what about a larger file?"
   ]
  }
 ],
 "metadata": {
  "kernelspec": {
   "display_name": "Python 3 (ipykernel)",
   "language": "python",
   "name": "python3"
  },
  "language_info": {
   "codemirror_mode": {
    "name": "ipython",
    "version": 3
   },
   "file_extension": ".py",
   "mimetype": "text/x-python",
   "name": "python",
   "nbconvert_exporter": "python",
   "pygments_lexer": "ipython3",
   "version": "3.10.12"
  },
  "toc": {
   "base_numbering": 1,
   "nav_menu": {},
   "number_sections": true,
   "sideBar": true,
   "skip_h1_title": false,
   "title_cell": "Table of Contents",
   "title_sidebar": "Contents",
   "toc_cell": false,
   "toc_position": {},
   "toc_section_display": true,
   "toc_window_display": false
  }
 },
 "nbformat": 4,
 "nbformat_minor": 5
}
