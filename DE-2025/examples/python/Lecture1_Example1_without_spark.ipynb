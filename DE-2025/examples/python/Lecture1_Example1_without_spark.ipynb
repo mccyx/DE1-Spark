{
 "cells": [
  {
   "cell_type": "code",
   "execution_count": null,
   "id": "6030e917",
   "metadata": {},
   "outputs": [],
   "source": [
    "# Use of .split( )\n",
    "\n",
    "line_of_text = 'hello my name is...'\n",
    "words = line_of_text.split(' ')\n",
    "\n",
    "print(words)\n",
    "print(words[1])\n",
    "print(len(words))"
   ]
  },
  {
   "cell_type": "code",
   "execution_count": null,
   "id": "d523249f",
   "metadata": {},
   "outputs": [],
   "source": [
    "# Count the words in a file...conventional code.\n",
    "\n",
    "number_words = 0\n",
    "with open(\"/home/ubuntu/DE-2025/data/others/i_have_a_dream.txt\") as file:\n",
    "    line = file.readline()\n",
    "    while line:\n",
    "        number_words += len(line.split(' '))\n",
    "        line = file.readline()\n",
    "    \n",
    "print(number_words)"
   ]
  },
  {
   "cell_type": "code",
   "execution_count": null,
   "id": "61397c4a",
   "metadata": {},
   "outputs": [],
   "source": [
    "# Count the words in a file ... with map( ) and reduce( ) ... without Spark!\n",
    "from functools import reduce\n",
    "from operator import add\n",
    "\n",
    "# Think instead in terms of 'map' and 'reduce'\n",
    "with open('/home/ubuntu/DE-2025/data/others/i_have_a_dream.txt') as file:\n",
    "    lines = file.readlines()\n",
    "    #print(lines)\n",
    "    \n",
    "    words = list(map(lambda line: line.split(' '), lines))\n",
    "    print(words[0:2])\n",
    "    \n",
    "    word_counts = list(map(lambda w: len(w), words))\n",
    "    print(word_counts)\n",
    "    \n",
    "    total_words = reduce(add, word_counts)\n",
    "    print(f'total words= {total_words}')    \n"
   ]
  },
  {
   "cell_type": "code",
   "execution_count": null,
   "id": "5fe30adf",
   "metadata": {},
   "outputs": [],
   "source": [
    "# ... what about a larger file?"
   ]
  }
 ],
 "metadata": {
  "kernelspec": {
   "display_name": "Python 3 (ipykernel)",
   "language": "python",
   "name": "python3"
  },
  "language_info": {
   "codemirror_mode": {
    "name": "ipython",
    "version": 3
   },
   "file_extension": ".py",
   "mimetype": "text/x-python",
   "name": "python",
   "nbconvert_exporter": "python",
   "pygments_lexer": "ipython3",
   "version": "3.10.6"
  },
  "toc": {
   "base_numbering": 1,
   "nav_menu": {},
   "number_sections": true,
   "sideBar": true,
   "skip_h1_title": false,
   "title_cell": "Table of Contents",
   "title_sidebar": "Contents",
   "toc_cell": false,
   "toc_position": {},
   "toc_section_display": true,
   "toc_window_display": false
  }
 },
 "nbformat": 4,
 "nbformat_minor": 5
}
