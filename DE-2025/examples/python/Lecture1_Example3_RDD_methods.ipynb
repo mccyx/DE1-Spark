{
 "cells": [
  {
   "cell_type": "markdown",
   "id": "3d7401c0",
   "metadata": {
    "editable": true,
    "slideshow": {
     "slide_type": ""
    },
    "tags": []
   },
   "source": [
    "## Setting up Spark Session / Context"
   ]
  },
  {
   "cell_type": "code",
   "execution_count": 1,
   "id": "076905ba-5c2e-4a45-a9b5-44910d92e011",
   "metadata": {
    "editable": true,
    "slideshow": {
     "slide_type": ""
    },
    "tags": []
   },
   "outputs": [
    {
     "name": "stderr",
     "output_type": "stream",
     "text": [
      "Setting default log level to \"WARN\".\n",
      "To adjust logging level use sc.setLogLevel(newLevel). For SparkR, use setLogLevel(newLevel).\n",
      "25/02/09 16:52:03 WARN NativeCodeLoader: Unable to load native-hadoop library for your platform... using builtin-java classes where applicable\n"
     ]
    }
   ],
   "source": [
    "from pyspark.sql import SparkSession\n",
    "\n",
    "# New API\n",
    "spark_session = SparkSession.builder\\\n",
    "        .master(\"spark://192.168.2.251:7077\") \\\n",
    "        .appName(\"Lecture1_Example3_RDD_function_examples\")\\\n",
    "        .config(\"spark.dynamicAllocation.enabled\", True)\\\n",
    "        .config(\"spark.dynamicAllocation.shuffleTracking.enabled\",True)\\\n",
    "        .config(\"spark.shuffle.service.enabled\", False)\\\n",
    "        .config(\"spark.dynamicAllocation.executorIdleTimeout\",\"30s\")\\\n",
    "        .config(\"spark.executor.cores\", 8)\\\n",
    "        .config(\"spark.driver.port\",9999)\\\n",
    "        .config(\"spark.blockManager.port\",10005)\\\n",
    "        .getOrCreate()\n",
    "\n",
    "\n",
    "# Old API (RDD)\n",
    "spark_context = spark_session.sparkContext\n",
    "spark_context.setLogLevel(\"ERROR\")"
   ]
  },
  {
   "cell_type": "markdown",
   "id": "bcf30168",
   "metadata": {},
   "source": [
    "---\n",
    "## 1. Putting data on spark cluster"
   ]
  },
  {
   "cell_type": "code",
   "execution_count": 2,
   "id": "47762f91-9722-4490-8002-d0f75ee30ca1",
   "metadata": {},
   "outputs": [],
   "source": [
    "rdd = spark_context.parallelize(range(1_000_000_00), 16)"
   ]
  },
  {
   "cell_type": "markdown",
   "id": "6b1af528-7269-4598-8481-cd6e489b4d8a",
   "metadata": {
    "editable": true,
    "slideshow": {
     "slide_type": ""
    },
    "tags": []
   },
   "source": [
    "---\n",
    "## 2. Using getNumPartitions"
   ]
  },
  {
   "cell_type": "code",
   "execution_count": 3,
   "id": "85d1b02e-b279-4021-afc6-de8532716d8c",
   "metadata": {
    "editable": true,
    "slideshow": {
     "slide_type": ""
    },
    "tags": []
   },
   "outputs": [
    {
     "data": {
      "text/plain": [
       "16"
      ]
     },
     "execution_count": 3,
     "metadata": {},
     "output_type": "execute_result"
    }
   ],
   "source": [
    "# getNumPartitions\n",
    "rdd.getNumPartitions()"
   ]
  },
  {
   "cell_type": "markdown",
   "id": "20eb32fb-0905-40e1-a46e-1f93459c1c03",
   "metadata": {},
   "source": [
    "---\n",
    "## 3. Using map & mapValues:"
   ]
  },
  {
   "cell_type": "code",
   "execution_count": 4,
   "id": "65d310c7-ae2e-424c-984a-b97322f35d22",
   "metadata": {},
   "outputs": [
    {
     "name": "stderr",
     "output_type": "stream",
     "text": [
      "                                                                                "
     ]
    },
    {
     "data": {
      "text/plain": [
       "[2, 2]"
      ]
     },
     "execution_count": 4,
     "metadata": {},
     "output_type": "execute_result"
    }
   ],
   "source": [
    "# map\n",
    "x = spark_context.parallelize([(\"a\", [\"apple\", \"banana\", \"lemon\"]), (\"b\", [\"grapes\"])])\n",
    "def f(x): return len(x)\n",
    "x.map(f).collect()"
   ]
  },
  {
   "cell_type": "code",
   "execution_count": 5,
   "id": "58bb8312-df20-422a-9efd-bb1719a49140",
   "metadata": {},
   "outputs": [
    {
     "data": {
      "text/plain": [
       "[('a', 3), ('b', 1)]"
      ]
     },
     "execution_count": 5,
     "metadata": {},
     "output_type": "execute_result"
    }
   ],
   "source": [
    "# mapValues\n",
    "x.mapValues(f).collect()"
   ]
  },
  {
   "cell_type": "markdown",
   "id": "038a38e0-5094-4c31-9d50-e1e401f0897b",
   "metadata": {},
   "source": [
    "---\n",
    "## 4. Using flapMap & flapMapValues:"
   ]
  },
  {
   "cell_type": "code",
   "execution_count": 6,
   "id": "98b7778b-a6c9-48a7-8d6a-19b500c2b369",
   "metadata": {},
   "outputs": [
    {
     "data": {
      "text/plain": [
       "[0, 0, 0, 1, 1, 1, 2, 4, 8, 3, 9, 27, 4, 16, 64, 5, 25, 125, 6, 36]"
      ]
     },
     "execution_count": 6,
     "metadata": {},
     "output_type": "execute_result"
    }
   ],
   "source": [
    "# flapMap\n",
    "rdd_2 = rdd.flatMap(lambda x: (x, x**2, x**3))\n",
    "rdd_2.take(20)"
   ]
  },
  {
   "cell_type": "code",
   "execution_count": 7,
   "id": "73e57f19-6b9f-4ec3-8fa6-b7af4d79fd78",
   "metadata": {
    "editable": true,
    "slideshow": {
     "slide_type": ""
    },
    "tags": []
   },
   "outputs": [
    {
     "data": {
      "text/plain": [
       "[('a', 'xyz'), ('b', 'pr')]"
      ]
     },
     "execution_count": 7,
     "metadata": {},
     "output_type": "execute_result"
    }
   ],
   "source": [
    "x = spark_context.parallelize([(\"a\", [\"x\", \"y\", \"z\"]), (\"b\", [\"p\", \"r\"])])\n",
    "def f(x): return \"\".join(x)\n",
    "x.mapValues(f).collect()"
   ]
  },
  {
   "cell_type": "code",
   "execution_count": 8,
   "id": "a0c53c81-b498-421c-b4e9-0c5baf3812c7",
   "metadata": {},
   "outputs": [
    {
     "data": {
      "text/plain": [
       "[('a', 'x'), ('a', 'y'), ('a', 'z'), ('b', 'p'), ('b', 'r')]"
      ]
     },
     "execution_count": 8,
     "metadata": {},
     "output_type": "execute_result"
    }
   ],
   "source": [
    "# flapMapValues\n",
    "x.flatMapValues(f).collect()"
   ]
  },
  {
   "cell_type": "markdown",
   "id": "6b861d52-d6bd-4f21-ac0c-37094d7fa707",
   "metadata": {},
   "source": [
    "---\n",
    "## 5. Using mapPartitions & mapPartitionsWithIndex:"
   ]
  },
  {
   "cell_type": "code",
   "execution_count": 9,
   "id": "846aef9d-17d9-4827-9ff6-d5c360ea62f4",
   "metadata": {},
   "outputs": [
    {
     "name": "stdout",
     "output_type": "stream",
     "text": [
      "[[19531246875000], [58593746875000], [97656246875000], [136718746875000], [175781246875000], [214843746875000], [253906246875000], [292968746875000], [332031246875000], [371093746875000], [410156246875000], [449218746875000], [488281246875000], [527343746875000], [566406246875000], [605468746875000]]\n"
     ]
    }
   ],
   "source": [
    "# mapPartitions\n",
    "def f(iterator): yield sum(iterator)\n",
    "\n",
    "rdd_2 = rdd.mapPartitions(f)\n",
    "print(rdd_2.glom().collect())  # glom() flattens elements on the same partition"
   ]
  },
  {
   "cell_type": "code",
   "execution_count": 10,
   "id": "714804ee-0050-4e6b-a6a0-a022b6432f8c",
   "metadata": {},
   "outputs": [
    {
     "name": "stdout",
     "output_type": "stream",
     "text": [
      "[[(0, 19531246875000)], [(1, 58593746875000)], [(2, 97656246875000)], [(3, 136718746875000)], [(4, 175781246875000)], [(5, 214843746875000)], [(6, 253906246875000)], [(7, 292968746875000)], [(8, 332031246875000)], [(9, 371093746875000)], [(10, 410156246875000)], [(11, 449218746875000)], [(12, 488281246875000)], [(13, 527343746875000)], [(14, 566406246875000)], [(15, 605468746875000)]]\n"
     ]
    }
   ],
   "source": [
    "# mapPartitionsWithIndex\n",
    "def f(partitionIndex, iterator): yield (partitionIndex,sum(iterator))\n",
    "rdd_2 = rdd.mapPartitionsWithIndex(f)\n",
    "print(rdd_2.glom().collect())  # glom() flattens elements on the same partition"
   ]
  },
  {
   "cell_type": "markdown",
   "id": "64c549aa-aff1-4919-9165-cc5aa984f980",
   "metadata": {},
   "source": [
    "---\n",
    "## 6. Using filter:"
   ]
  },
  {
   "cell_type": "code",
   "execution_count": 11,
   "id": "df3b59fb-450e-4b59-8f1e-7f75827bf978",
   "metadata": {
    "editable": true,
    "slideshow": {
     "slide_type": ""
    },
    "tags": []
   },
   "outputs": [
    {
     "name": "stderr",
     "output_type": "stream",
     "text": [
      "                                                                                "
     ]
    },
    {
     "data": {
      "text/plain": [
       "[1, 3, 5, 7, 9, 11, 13, 15, 17, 19]"
      ]
     },
     "execution_count": 11,
     "metadata": {},
     "output_type": "execute_result"
    }
   ],
   "source": [
    "# filter\n",
    "rdd_2 = rdd.filter(lambda x: x%2 == 1 and x < 20)\n",
    "rdd_2.collect()"
   ]
  },
  {
   "cell_type": "markdown",
   "id": "1ddec765-008c-46d6-9956-0fc4d6044c1c",
   "metadata": {},
   "source": [
    "---\n",
    "## 7. Using distinct:"
   ]
  },
  {
   "cell_type": "code",
   "execution_count": 12,
   "id": "ed7e563d-7ade-4435-b8ff-ddb3b00cb462",
   "metadata": {},
   "outputs": [
    {
     "name": "stdout",
     "output_type": "stream",
     "text": [
      "['A', 'A', 'B']\n",
      "['B', 'A']\n"
     ]
    }
   ],
   "source": [
    "# distinct\n",
    "x = spark_context.parallelize([\"A\",\"A\",\"B\"])\n",
    "y = x.distinct()\n",
    "print(x.collect())\n",
    "print(y.collect())"
   ]
  },
  {
   "cell_type": "code",
   "execution_count": 13,
   "id": "b24261b5-a166-4e9f-9d6b-3eb3b615fa2e",
   "metadata": {
    "editable": true,
    "slideshow": {
     "slide_type": ""
    },
    "tags": []
   },
   "outputs": [],
   "source": [
    "spark_session.stop()"
   ]
  },
  {
   "cell_type": "code",
   "execution_count": null,
   "id": "653ab7e5-e1ea-4e02-8dfd-5bb03c934d92",
   "metadata": {
    "editable": true,
    "slideshow": {
     "slide_type": ""
    },
    "tags": []
   },
   "outputs": [],
   "source": []
  }
 ],
 "metadata": {
  "kernelspec": {
   "display_name": "Python 3 (ipykernel)",
   "language": "python",
   "name": "python3"
  },
  "language_info": {
   "codemirror_mode": {
    "name": "ipython",
    "version": 3
   },
   "file_extension": ".py",
   "mimetype": "text/x-python",
   "name": "python",
   "nbconvert_exporter": "python",
   "pygments_lexer": "ipython3",
   "version": "3.10.12"
  },
  "toc": {
   "base_numbering": 1
  }
 },
 "nbformat": 4,
 "nbformat_minor": 5
}
