{
 "cells": [
  {
   "cell_type": "markdown",
   "id": "3d7401c0",
   "metadata": {},
   "source": [
    "### Setting up Spark Session / Context"
   ]
  },
  {
   "cell_type": "code",
   "execution_count": null,
   "id": "076905ba-5c2e-4a45-a9b5-44910d92e011",
   "metadata": {},
   "outputs": [],
   "source": [
    "from pyspark.sql import SparkSession\n",
    "\n",
    "# New API\n",
    "spark_session = SparkSession.builder\\\n",
    "        .master(\"spark://192.168.2.35:7077\") \\\n",
    "        .appName(\"Lecture1_Example3_RDD_function_examples\")\\\n",
    "        .config(\"spark.dynamicAllocation.enabled\", True)\\\n",
    "        .config(\"spark.dynamicAllocation.shuffleTracking.enabled\",True)\\\n",
    "        .config(\"spark.shuffle.service.enabled\", False)\\\n",
    "        .config(\"spark.dynamicAllocation.executorIdleTimeout\",\"30s\")\\\n",
    "        .config(\"spark.executor.cores\", 2)\\\n",
    "        .config(\"spark.driver.port\",9999)\\\n",
    "        .config(\"spark.blockManager.port\",10005)\\\n",
    "        .getOrCreate()\n",
    "\n",
    "\n",
    "# Old API (RDD)\n",
    "spark_context = spark_session.sparkContext\n",
    "spark_context.setLogLevel(\"ERROR\")"
   ]
  },
  {
   "cell_type": "markdown",
   "id": "bcf30168",
   "metadata": {},
   "source": [
    "### Putting data on spark cluster"
   ]
  },
  {
   "cell_type": "code",
   "execution_count": null,
   "id": "c234f48f-78ee-4129-b3de-bccd7c34761b",
   "metadata": {},
   "outputs": [],
   "source": [
    "rdd = spark_context.parallelize([\"b\", \"a\", \"c\"])\n",
    "rdd.map(lambda x: (x, 1)).collect()"
   ]
  },
  {
   "cell_type": "code",
   "execution_count": null,
   "id": "75d485c8-3bcf-449e-9ba8-f6fe04e11d22",
   "metadata": {},
   "outputs": [],
   "source": [
    "sorted(rdd.map(lambda x: (x, 1)).collect())"
   ]
  },
  {
   "cell_type": "code",
   "execution_count": null,
   "id": "bb16de61-3d7a-43d9-bddc-01c1f0523292",
   "metadata": {},
   "outputs": [],
   "source": [
    "rdd.flatMap(lambda x: (x, 1)).collect()"
   ]
  },
  {
   "cell_type": "code",
   "execution_count": null,
   "id": "4714dba8-e4af-4f88-9561-30b5e0c94f3f",
   "metadata": {},
   "outputs": [],
   "source": []
  },
  {
   "cell_type": "code",
   "execution_count": null,
   "id": "ed7e563d-7ade-4435-b8ff-ddb3b00cb462",
   "metadata": {},
   "outputs": [],
   "source": [
    "x = spark_context.parallelize([(\"a\", [\"apple\", \"banana\", \"lemon\"]), (\"b\", [\"grapes\"])])\n",
    "def f(x): \n",
    "    return len(x)\n",
    "x.map(f).collect()"
   ]
  },
  {
   "cell_type": "code",
   "execution_count": null,
   "id": "a86ff120-ddbe-4cbc-84fd-5d702e508ebf",
   "metadata": {},
   "outputs": [],
   "source": [
    "x.mapValues(f).collect()"
   ]
  },
  {
   "cell_type": "code",
   "execution_count": null,
   "id": "fb5207ac-928b-4924-a395-de17ee5467ce",
   "metadata": {},
   "outputs": [],
   "source": []
  },
  {
   "cell_type": "code",
   "execution_count": null,
   "id": "45769e9e-20d9-4918-9537-2bbb8d5fbaf8",
   "metadata": {},
   "outputs": [],
   "source": [
    "x = spark_context.parallelize([(\"a\", [\"x\", \"y\", \"z\"]), (\"b\", [\"p\", \"r\"])])\n",
    "def f(x): \n",
    "    return x\n",
    "x.mapValues(f).collect()"
   ]
  },
  {
   "cell_type": "code",
   "execution_count": null,
   "id": "cbd51b8e-7f30-4a2b-9896-7c543c81db34",
   "metadata": {},
   "outputs": [],
   "source": [
    "x.flatMapValues(f).collect()"
   ]
  },
  {
   "cell_type": "code",
   "execution_count": 9,
   "id": "b24261b5-a166-4e9f-9d6b-3eb3b615fa2e",
   "metadata": {},
   "outputs": [],
   "source": [
    "spark_session.stop()"
   ]
  }
 ],
 "metadata": {
  "kernelspec": {
   "display_name": "Python 3 (ipykernel)",
   "language": "python",
   "name": "python3"
  },
  "language_info": {
   "codemirror_mode": {
    "name": "ipython",
    "version": 3
   },
   "file_extension": ".py",
   "mimetype": "text/x-python",
   "name": "python",
   "nbconvert_exporter": "python",
   "pygments_lexer": "ipython3",
   "version": "3.8.10"
  }
 },
 "nbformat": 4,
 "nbformat_minor": 5
}
