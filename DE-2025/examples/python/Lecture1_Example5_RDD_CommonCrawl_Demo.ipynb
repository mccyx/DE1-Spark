{
 "cells": [
  {
   "cell_type": "code",
   "execution_count": 1,
   "metadata": {
    "editable": true,
    "slideshow": {
     "slide_type": ""
    },
    "tags": []
   },
   "outputs": [
    {
     "name": "stderr",
     "output_type": "stream",
     "text": [
      "Setting default log level to \"WARN\".\n",
      "To adjust logging level use sc.setLogLevel(newLevel). For SparkR, use setLogLevel(newLevel).\n",
      "25/02/09 16:53:24 WARN NativeCodeLoader: Unable to load native-hadoop library for your platform... using builtin-java classes where applicable\n"
     ]
    }
   ],
   "source": [
    "from operator import add\n",
    "import re\n",
    "from collections import OrderedDict\n",
    "from operator import itemgetter \n",
    "import itertools\n",
    "from pyspark.sql import SparkSession\n",
    "\n",
    "# New API\n",
    "spark_session = SparkSession\\\n",
    "        .builder\\\n",
    "        .master(\"spark://192.168.2.251:7077\") \\\n",
    "        .appName(\"Lecture1_Example5_common_crawl\")\\\n",
    "        .config(\"spark.executor.cores\",4)\\\n",
    "        .config(\"spark.dynamicAllocation.enabled\", True)\\\n",
    "        .config(\"spark.dynamicAllocation.shuffleTracking.enabled\", True)\\\n",
    "        .config(\"spark.shuffle.service.enabled\", False)\\\n",
    "        .config(\"spark.dynamicAllocation.executorIdleTimeout\",\"30s\")\\\n",
    "        .config(\"spark.driver.port\",9999)\\\n",
    "        .config(\"spark.blockManager.port\",10005)\\\n",
    "        .getOrCreate()\n",
    "\n",
    "\n",
    "# RDD API \n",
    "spark_context = spark_session.sparkContext\n",
    "spark_context.setLogLevel(\"ERROR\")"
   ]
  },
  {
   "cell_type": "code",
   "execution_count": 2,
   "metadata": {},
   "outputs": [
    {
     "name": "stderr",
     "output_type": "stream",
     "text": [
      "                                                                                "
     ]
    },
    {
     "data": {
      "text/plain": [
       "37759"
      ]
     },
     "execution_count": 2,
     "metadata": {},
     "output_type": "execute_result"
    }
   ],
   "source": [
    "\n",
    "# (*/*) - out of memory›\n",
    "# ~6.4mins for 39496 files. (...00000/)  (takes 1 minute with 40 partitions)\n",
    "# ~5 secs for 10 files (...00000/0*) \n",
    "# ~20 secs for 11110 files (...00000/1*) \n",
    "\n",
    "\n",
    "rdd = spark_context.newAPIHadoopFile(\n",
    "    \"hdfs://192.168.2.251:9000/data/crawl/CC-MAIN-20230921073711-20230921103711-00010.warc.wet\",\n",
    "    \"org.apache.hadoop.mapreduce.lib.input.TextInputFormat\",\n",
    "    \"org.apache.hadoop.io.LongWritable\",\n",
    "    \"org.apache.hadoop.io.Text\",\n",
    "    conf={\"textinputformat.record.delimiter\": \"WARC/1.0\"}\n",
    ")\\\n",
    ".cache() # Keep this RDD in memory!\n",
    "\n",
    "rdd.count()\n",
    "# Only one job (previous .cache() did not trigger a job)"
   ]
  },
  {
   "cell_type": "code",
   "execution_count": 3,
   "metadata": {},
   "outputs": [
    {
     "data": {
      "text/plain": [
       "[(0, ''),\n",
       " (8,\n",
       "  '\\r\\nWARC-Type: warcinfo\\r\\nWARC-Date: 2023-10-05T06:13:02Z\\r\\nWARC-Filename: CC-MAIN-20230921073711-20230921103711-00010.warc.wet.gz\\r\\nWARC-Record-ID: <urn:uuid:413ca23a-a8f2-4996-a251-2450d1aa2d50>\\r\\nContent-Type: application/warc-fields\\r\\nContent-Length: 382\\r\\n\\r\\nSoftware-Info: ia-web-commons.1.1.10-SNAPSHOT-20230912101454\\r\\nExtracted-Date: Thu, 05 Oct 2023 06:13:02 GMT\\r\\nrobots: checked via crawler-commons 1.5-SNAPSHOT (https://github.com/crawler-commons/crawler-commons)\\r\\nisPartOf: CC-MAIN-2023-40\\r\\noperator: Common Crawl Admin (info@commoncrawl.org)\\r\\ndescription: Wide crawl of the web for September/October 2023\\r\\npublisher: Common Crawl\\r\\n\\r\\n\\r\\n\\r\\n'),\n",
       " (657,\n",
       "  '\\r\\nWARC-Type: conversion\\r\\nWARC-Target-URI: http://0-50.ru/news/tag/%EC%E0%F1%F1%EE%E2%E0%FF+%E4%F0%E0%EA%E0\\r\\nWARC-Date: 2023-09-21T09:25:16Z\\r\\nWARC-Record-ID: <urn:uuid:110df249-8518-4c26-88b7-69b82f2a425b>\\r\\nWARC-Refers-To: <urn:uuid:e68e19b8-b09c-46c7-8858-3fb3041b4ded>\\r\\nWARC-Block-Digest: sha1:BM3D3ZZIFF7YG7HAXVVMJHMPS6OTYNKJ\\r\\nWARC-Identified-Content-Language: rus\\r\\nContent-Type: text/plain\\r\\nContent-Length: 16945\\r\\n\\r\\nНовости 0-50.ru | Новости по тегу: массовая драка\\n|\\nПогода в Екатеринбурге и Свердловской области |\\nЧто приготовить на ужин рецепт с фото |\\nНовости Екатеринбурга |\\n96women.ru - Живой Женский Журнал |\\nГлавная\\nРедакция\\nРеклама\\nО проекте\\nRSS\\nОбратная связь\\nВсе новости\\nЕкатеринбург\\nРоссия и мир\\nОбразование\\nНедвижимость\\nЗдоровье\\nСпорт\\nПроисшествия\\nТранспорт\\nНовости компаний\\nДругая жизнь\\nСтатьи\\nНовости Екатеринбурга\\nДыхательные тренажеры , зачем и каковы их отличия\\nКакая основная причина давления, инсульта? Как доступным способом уйти от проблем с сосудами и жить до глубокой старости?\\nДыхательные тренажеры: для чего они и каковы их отличия?\\nПошив и продажа авточехлов для иномарок и отечественных автомобилей оптом и в розницу в Екатеринбурге\\nОфициальный сервисный центр Whirlpool Corporation открыл свои двери жителям Екатеринбурга\\nПрофилактика вирусных инфекций в рекомендациях кандидата медицинских наук, врача-инфекциониста высшей категории Щинова Андрея Ивановича\\nКоллектив салонов оптики «ОЧКИ КУДЕЛИНОЙ» поздравляет горожан с наступающим 2020 годом!\\nБлаготворительный фонд Антона Шипулина и Благотворительный фонд «Общества Малышева-73 «Добрые дела» откроют еще 4 спортивных объекта\\nВ Екатеринбурге пройдет шестой Свердловский химический турнир\\nАнтон Шипулин и Игорь Заводовский откроют в Екатеринбурге три новые площадки для занятий по воркауту\\nВсе новости Екатеринбурга…\\nНовости по тегу: массовая драка\\nПолиция в Туле задержала 30 участников массовой драки\\nОколо 30 участников массовой драки задержали сотрудники полиции в Туле.\\nТри человека пострадали в массовой драке в гаражах на Каширском шоссе\\nВосемь человек устроили массовую драку на на территории ГСК-6, что на Каширском шоссе в Москве.\\nЗадержанные участники массовой драки на улице Средней Калитниковской отпущены\\nНа дебоширов составили административные протоколы\\nЧетверо мужчин устроили драку в ресторане «Пушкин» в Москве\\nМассовую драку с поножовщиной устроили утром пятницы четверо весьма агрессивных молодых людей в столичном ресторане \"Пушкин\".\\nОдин из двух десантников, разбившихся при прыжках с парашютом под Псковом, скончался\\nМинувшим вечером\\n104 человека задержаны около Центрального рынка Перми за попытку устроить массовую драку с мигрантами\\nВ субботу вечером\\nУ мечети в поселке Ленинкент под Махачкалой произошла массовая драка с ваххабитами\\nШесть человек ранены\\nВ Воронеже в массовой драке из-за парковки на улице Туполева ножом ранили троих человек\\nподозреваемые задержаны\\nМасссовая драка произошла в Истре в Подмосковье\\nМассовое побоище с участием местных жителей произошло минувшим вечером в подмосковной Истре.\\nАрестован гендиректор базы «Серебряный век» в Тарусе, который возглавил избиение отдыхающих\\nВ настоящее время ведется работа по поиску и задержанию других нападавших\\nГендиректор базы отдыха «Серебряный век» в городе Таруса возглавил избиение отдыхающих\\nСотрудники МВД установили\\nНа базе отдыха «Серебряный век» под Калугой массово избили отдыхающих\\nМассовое избиение отдыхающего народа случилось на базе отдыха \"Серебряный век\" под Тарусой в Калужской области.\\nШесть человек задержаны за драку на улице Ульянова в Москве\\nКрупную драку удалось пресечь сотрудникам полиции на улице Дмитрия Ульянова в Москве.\\nПолицейского ранили в массовой драке на Ставрополье\\nСотрудник полиции получил ранение из травматического оружия в результате массовой драки со стрельбой возле кафе в одном из населенных пунктов Предгорного района Ставропольского края.\\nОдин человек убит в массовой драке на улице Нижние Поля в Москве\\nОдин человек застрелен, еще двое получили ранения в результате массовой драки на улице Нижние Поля в Москве.\\nПосле массовой драки в Барнауле задержаны 20 человек\\nМассовая битва произошла в ночь на пятницу в Железнодорожном районе Барнаула. Полицейские задержали более 20 человек.\\nВ массовой драке в Абакане получили ранения пять человек\\nПять человек получили ножевые ранения в результате пьяного побоища на улице Абакана минувшей ночью.\\nМассовая драка произошла в ресторане «Тетка Фишер» в Калининграде\\nБытовая ссора в калининградском ресторане \"Тетка Фишер\"переросла в массовую драку с применением бейсбольных бит и прочих предметов.\\nТри человека пострадали в драке на станции «Лось» в Москве\\nМассовая драка случилась на северо-востоке Москвы около железнодорожной станции \"Лось\". Бойцы сошлись около одного из домов на Анадырском проезде.\\nДрака в клубе на улице Грина в Москве: двое раненых\\nДва человека получили колото-резаные ранения в результате массовой драки в ночном клубе на улице Грина в Москве.\\n1 2 3 4 >\\nОблако тегов\\nновости дом 2 2013 новости дом 2 2012 Пожар новости Дагестана погода в Москве беспорядки в Донецке новости Украины новости биатлона футбол России н Биатлон происшествия в Москве новости дом 2 сегодня новости Крыма сегодня новости Луганска сегодня убийство украина новости сегодня футбол сегодня санкции новости Славянска ДТП в Екатеринбурге Александр Мишарин сплетни дом 2 состав сборной России авария новости украины сегодня новости москвы новости Киева сегодня проишествия в москве новости киева США слухи на дом 2 новости дом 2 свежие новости дом 2 на сегодня Футбол футбол чемпионат России новости футбола новости Одессы авария в Екатеринбурге что происходит в Славянске новости Петербурга ДТП новости дом 2 новости екатеринбурга новости Луганска Владимир Путин операция в Славянске дом 2 свежие новости новости Севастополя новости Донецка Свердловская область дом 2 новости новости Крыма киев новости донецк новости сегодня Евгений Куйвашев новости Харькова санкции против России беспорядки в Киеве новости Краматорска\\nГлавная | Карта сайта | RSS Feed\\nРоссия и мир\\nКакие услуги можно получить по полису ОМС (обязательного медицинского страхования) бесплатно\\nТелеканал «Дождь» запускает новую линейку программ и объявляет специальные цены на подписку для регионов России\\nНа Урале рыболовы поймали и отпустили почти 7,5 тысячи форелей\\nГИБДД предложила увеличить минимальный штраф за превышение скорости до 3000 рублей и отменить скидку\\nРЭУ им. Г.В.Плеханова по результатам аудита получил категорию «5 звезд» в рейтинге QS STARS\\nВ Тюмени и Тобольске пройдёт отборочный этап Всероссийского конкурса детского и юношеского творчества «Земля талантов»\\nПодарки на поздравление с 8 марта каждый третий россиянин ищет в интернете\\nНовости СМИ2\\nЖена Марата Башарова Елизавета Шевыркова подала на развод\\nВ Воронеже во дворе дома №77 на Калачеевской пьяный мужчина сжег Audi A8\\nФилиппинка Катриона Грэй победила в конкурсе красоты «Мисс Вселенная 2018», Юлия Полячихина не вышла даже в полуфинал\\nВ Торжке (Тверская область) парень получил срок за пост «ВКонтакте»\\nЕхавший в Рязань мужчина на трассе А-108 спас подорвавшегося участкового ОМВД «Марьина Роща»\\nВзрыв метана на полигоне ТБО у Конаково под Тверью привел к пожару, который вряд ли ликвидируют в ближайшие дни\\nОбъявлен Грантовый конкурс музейных инклюзивных программ 2018\\nКак правильно оформить страховку?\\nПроизводитель строительной химии концерн BASF запустил производство в Краснодаре\\nСтраховая компания «Росгосстрах» приобретает компанию «ЭРГО жизнь»\\nВ Тамбове на Покровской ярмарке 70-летний мужчина подавился шашлыком и умер\\nПод Тверью у деревни Некрасово на месте ДТП с 13 погибшими Peugeot 206 протаранил Renault Logan\\nВ центре Воронежа с 15 октября начинают штрафовать на 1500 рублей за неоплату парковки\\nВсе новости…\\nАктуально\\nКакая основная причина давления, инсульта? Как доступным способом уйти от проблем с сосудами и жить до глубокой старости?\\nДыхательные тренажеры: для чего они и каковы их отличия?\\nПошив и продажа авточехлов для иномарок и отечественных автомобилей оптом и в розницу в Екатеринбурге\\nОфициальный сервисный центр Whirlpool Corporation открыл свои двери жителям Екатеринбурга\\nКакие услуги можно получить по полису ОМС (обязательного медицинского страхования) бесплатно\\nЕкатеринбургский центр занятости предлагает горожанам записаться на консультацию на сайте Департамента по труду и занятости Свердловской области\\nЕкатеринбургский центр занятости приглашает граждан предпенсионного возраста пройти бесплатное обучение\\nЧто приготовить на ужин быстро и вкусно: салат из куриной грудки рецепт с фото своими руками или на заказ\\nМежрегиональная общественная организация «Аистенок» проводит благотворительную акцию «Мама, останься!»\\nЛечение синдрома хронической усталости с помощью дыхательных упражнений\\nТорт из морковки простой рецепт с фото своими руками или на заказ\\nИмущественные споры граждан при разводе (расторжении брака) в мировом суде: «Эксперт-Ком» Екатеринбург\\nЧто приготовить на ужин быстро и вкусно: куриные маффины с грибами рецепт с фото пошагово\\nЧто приготовить на ужин быстро и вкусно: открытый пирог с семгой и брокколи рецепт с фото\\nЧто приготовить на ужин быстро и вкусно: ризотто с грибами и курицей рецепт с фото пошагово\\nВсе актуальные сюжеты…\\nСетевое издание Служба новостей 050\\nзарегистрировано в Федеральной службе по надзору в сфере связи, информационных технологий и массовых коммуникаций (Роскомнадзор)\\n25 апреля 2017г.\\nСвидетельство о регистрации ЭЛ № ФС77-69503\\nУчредитель общество с ограниченной ответственностью «Горсправка-ИНФО»\\nГлавный редактор Давыдов А.В.\\nРуководитель проекта Николаев В.П.\\nАдрес электронной почты редакции 1@0-50.ru\\nТелефон редакции +7 (908) 914-27-00\\nНастоящий ресурс содержит материалы 18+\\n© Горсправка 2009-2019\\n\\r\\n\\r\\n')]"
      ]
     },
     "execution_count": 3,
     "metadata": {},
     "output_type": "execute_result"
    }
   ],
   "source": [
    "rdd.take(3)\n",
    "# [(line_number, partition)]"
   ]
  },
  {
   "cell_type": "code",
   "execution_count": 4,
   "metadata": {},
   "outputs": [
    {
     "data": {
      "text/plain": [
       "3"
      ]
     },
     "execution_count": 4,
     "metadata": {},
     "output_type": "execute_result"
    }
   ],
   "source": [
    "rdd.getNumPartitions()"
   ]
  },
  {
   "cell_type": "code",
   "execution_count": 5,
   "metadata": {},
   "outputs": [
    {
     "name": "stdout",
     "output_type": "stream",
     "text": [
      "http://de1-spark-host-193:4040\n"
     ]
    }
   ],
   "source": [
    "print(spark_context.uiWebUrl)"
   ]
  },
  {
   "cell_type": "code",
   "execution_count": 6,
   "metadata": {},
   "outputs": [
    {
     "name": "stderr",
     "output_type": "stream",
     "text": [
      "[Stage 3:===================>                                       (1 + 2) / 3]"
     ]
    },
    {
     "name": "stdout",
     "output_type": "stream",
     "text": [
      "[('the', 2711), ('of', 1911), ('to', 1807), ('and', 1803), ('a', 1352), ('in', 1259), ('', 766), ('is', 750), ('for', 732), ('-', 660), ('on', 468), ('that', 433), ('The', 418), ('topic', 416), ('with', 409), ('be', 401), ('are', 397), ('you', 381), ('can', 370), ('TWiki', 369), ('by', 367), ('as', 323), ('this', 303), ('or', 299), ('I', 283), ('not', 257), ('an', 244), ('from', 243), ('|', 233), ('your', 217), ('TWiki:Main.PeterThoeny', 212), ('at', 212), ('use', 208), ('new', 202), ('Research', 198), ('if', 195), ('will', 188), ('all', 185), ('web', 185), ('it', 178), ('have', 177), ('--', 172), ('used', 171), ('Details', 171), ('You', 160), ('This', 160), ('name', 154), ('text', 146), ('University', 145), ('search', 140), ('user', 139), ('&', 137), ('was', 134), ('when', 133), ('topics', 129), ('form', 127), ('has', 127), ('access', 127), ('+4411732', 124), ('cookies', 119)]\n"
     ]
    },
    {
     "name": "stderr",
     "output_type": "stream",
     "text": [
      "                                                                                "
     ]
    }
   ],
   "source": [
    "## Example #1 - Filter by Top_level Domain and compute most common words ##\n",
    "\n",
    "# Try .ac.uk, .ru, .se, .com\n",
    "p = re.compile(\"WARC-Target-URI: \\S+\\.ac.uk\", re.IGNORECASE)\n",
    "\n",
    "\n",
    "# Note: .partition(..) returns a 3-tuple: the string before the separator (index 0), \n",
    "# the separotor (index 1), and the part of the string afterwards (index 2) -- which is the part we want.\n",
    "all_words = rdd\\\n",
    "    .filter(lambda doc: bool(p.search(doc[1])))\\\n",
    "    .map(lambda web_text: web_text[1].partition(\"\\r\\n\\r\\n\")[2])\\\n",
    "    .flatMap(lambda t: t.split(\" \"))\\\n",
    "    .flatMap(lambda w: w.split(\"\\n\"))\\\n",
    "\n",
    "\n",
    "\n",
    "all_words_and_count = all_words.map(lambda w: w.strip())\\\n",
    "    .map(lambda w: (w,1))\n",
    "\n",
    "\n",
    "word_counts = all_words_and_count.reduceByKey(add)\n",
    "\n",
    "print(word_counts.takeOrdered(60, key=lambda x: -x[1]))\n",
    "\n"
   ]
  },
  {
   "cell_type": "code",
   "execution_count": 7,
   "metadata": {},
   "outputs": [
    {
     "name": "stderr",
     "output_type": "stream",
     "text": [
      "                                                                                "
     ]
    },
    {
     "name": "stdout",
     "output_type": "stream",
     "text": [
      "Results:\n",
      "com\n"
     ]
    },
    {
     "name": "stderr",
     "output_type": "stream",
     "text": [
      "                                                                                "
     ]
    },
    {
     "name": "stdout",
     "output_type": "stream",
     "text": [
      "[('the', 243397), ('to', 197694), ('and', 189410), ('of', 150865), ('a', 147587), ('in', 116589), ('de', 113455), ('-', 94412), ('for', 87235), ('&', 73689), ('is', 72456), ('', 69987), ('on', 54889), ('with', 54683), ('you', 54452), ('|', 52258), ('your', 50644), ('►', 49979), ('The', 49594), ('that', 43193)]\n",
      "org\n"
     ]
    },
    {
     "name": "stderr",
     "output_type": "stream",
     "text": [
      "                                                                                "
     ]
    },
    {
     "name": "stdout",
     "output_type": "stream",
     "text": [
      "[('the', 42541), ('', 38009), ('of', 30338), ('and', 28112), ('to', 26676), ('a', 18925), ('in', 17242), ('for', 12331), ('-', 10524), ('is', 10450), ('de', 10083), ('The', 8016), ('on', 7445), ('by', 7313), ('that', 7157), ('with', 6360), ('&', 6115), ('are', 5100), ('as', 4890), ('you', 4645)]\n",
      "ru\n"
     ]
    },
    {
     "name": "stderr",
     "output_type": "stream",
     "text": [
      "                                                                                "
     ]
    },
    {
     "name": "stdout",
     "output_type": "stream",
     "text": [
      "[('и', 37068), ('в', 31114), ('для', 18509), ('на', 17930), ('с', 12828), ('-', 10394), ('не', 8474), ('по', 7973), ('В', 6459), ('', 5918), ('от', 5081), ('1', 4787), ('из', 4769), ('что', 4648), ('к', 4514), ('—', 4483), ('или', 3719), ('0', 3618), ('–', 3471), ('о', 3412)]\n",
      "de\n"
     ]
    },
    {
     "name": "stderr",
     "output_type": "stream",
     "text": [
      "                                                                                "
     ]
    },
    {
     "name": "stdout",
     "output_type": "stream",
     "text": [
      "[('und', 24385), ('der', 16504), ('die', 14528), ('/', 13808), ('in', 12383), ('für', 10697), ('-', 10661), ('von', 9587), ('&', 8679), ('zu', 7883), ('Sie', 7051), ('Airport', 6836), ('mit', 6765), ('den', 6290), ('', 6209), ('€', 5420), ('auf', 5342), ('a', 4922), ('im', 4886), ('ist', 4465)]\n",
      "net\n"
     ]
    },
    {
     "name": "stderr",
     "output_type": "stream",
     "text": [
      "                                                                                "
     ]
    },
    {
     "name": "stdout",
     "output_type": "stream",
     "text": [
      "[('the', 12256), ('to', 8951), ('and', 8544), ('de', 7765), ('of', 7642), ('a', 7599), ('-', 6983), ('in', 6048), ('', 5238), ('(1)', 4133), ('►', 4120), ('for', 3712), ('is', 3636), ('on', 2819), ('The', 2752), ('|', 2699), ('Tax', 2695), ('&', 2605), ('la', 2523), ('you', 2475)]\n",
      "it\n"
     ]
    },
    {
     "name": "stderr",
     "output_type": "stream",
     "text": [
      "                                                                                "
     ]
    },
    {
     "name": "stdout",
     "output_type": "stream",
     "text": [
      "[('di', 22102), ('e', 13472), ('per', 6739), ('in', 6625), ('a', 5709), ('il', 5698), ('la', 5518), ('-', 5296), ('del', 4828), ('che', 4262), ('duplicato', 3995), ('della', 3387), ('un', 3355), ('con', 3053), ('da', 3040), ('i', 2990), ('al', 2922), ('è', 2901), ('le', 2617), ('', 2410)]\n",
      "pl\n"
     ]
    },
    {
     "name": "stderr",
     "output_type": "stream",
     "text": [
      "                                                                                "
     ]
    },
    {
     "name": "stdout",
     "output_type": "stream",
     "text": [
      "[('------', 10407), ('i', 9897), ('w', 9006), ('do', 7490), ('na', 6248), ('z', 5830), ('-', 4119), ('--------', 3692), ('się', 3179), ('to', 2840), ('/', 2738), ('0', 2416), ('–', 2103), ('zł', 2079), ('', 2000), ('o', 1949), ('dla', 1915), ('nie', 1865), ('�', 1769), ('----', 1739)]\n",
      "fr\n"
     ]
    },
    {
     "name": "stderr",
     "output_type": "stream",
     "text": [
      "                                                                                "
     ]
    },
    {
     "name": "stdout",
     "output_type": "stream",
     "text": [
      "[('de', 25034), ('et', 10318), ('la', 9160), ('à', 8632), ('des', 7091), ('les', 6426), ('-', 6333), (':', 5891), ('le', 5839), ('en', 5564), ('du', 5007), ('pour', 4405), ('un', 3512), ('sur', 3185), ('une', 2459), ('dans', 2450), ('au', 2394), ('par', 2392), ('vous', 2391), ('/', 2283)]\n",
      "nl\n"
     ]
    },
    {
     "name": "stderr",
     "output_type": "stream",
     "text": [
      "                                                                                "
     ]
    },
    {
     "name": "stdout",
     "output_type": "stream",
     "text": [
      "[('de', 9868), ('en', 8741), ('van', 6361), ('een', 5546), ('in', 5360), ('het', 4508), ('je', 4221), ('met', 3970), ('voor', 3945), ('op', 3665), ('-', 3629), ('te', 3380), ('&', 3272), ('', 3257), ('is', 3186), ('of', 2838), ('De', 1848), ('om', 1734), ('aan', 1595), ('2021', 1556)]\n",
      "edu\n"
     ]
    },
    {
     "name": "stderr",
     "output_type": "stream",
     "text": [
      "[Stage 24:======================================>                   (2 + 1) / 3]"
     ]
    },
    {
     "name": "stdout",
     "output_type": "stream",
     "text": [
      "[('and', 9372), ('of', 9045), ('the', 8818), ('to', 5854), ('in', 4636), ('for', 3604), ('a', 3455), ('-', 2413), ('&', 2214), ('by', 1587), ('The', 1537), ('on', 1488), ('', 1480), ('is', 1456), ('with', 1333), ('Search', 1180), ('Research', 1168), ('at', 1140), ('University', 1090), ('that', 1072)]\n"
     ]
    },
    {
     "name": "stderr",
     "output_type": "stream",
     "text": [
      "                                                                                "
     ]
    }
   ],
   "source": [
    "## Example #2 - Group by TLD and compute most common words for each ##\n",
    "\n",
    "ex = \"WARC-Type: conversion\\\n",
    "WARC-Target-URI: http://news.bbc.co.uk/2/hi/africa/3414345.stm\\\n",
    "WARC-Date: 2014-08-02T09:52:13Z\"\n",
    "\n",
    "p = re.compile(\"WARC-Target-URI: \\S+\\.([a-zA-Z]{2,3})/\", re.IGNORECASE)\n",
    "# print(p.search(ex).group(1))\n",
    "# uk\n",
    "\n",
    "def get_tld(content):\n",
    "    match = p.search(content)\n",
    "    if match is not None:\n",
    "        return match.group(1)\n",
    "    else:\n",
    "        return None\n",
    "\n",
    "# discard the line number\n",
    "# partition() -- python function -- split on the first occurance, returns (before,split,after)\n",
    "# filter out those with no TLD\n",
    "\n",
    "    \n",
    "words_by_tld_rdd = rdd\\\n",
    "    .map(lambda filename_content: filename_content[1])\\\n",
    "    .map(lambda content: (get_tld(content), content.partition(\"\\r\\n\\r\\n\")[2]))\\\n",
    "    .filter(lambda tld_content: tld_content[0] is not None)\\\n",
    "    .flatMapValues(lambda words: words.split(\" \"))\\\n",
    "    .flatMapValues(lambda words: words.split(\"\\n\"))\\\n",
    "    .mapValues(lambda word: word.strip())\n",
    "    #.take(10)\n",
    "\n",
    "# print(words_by_tld_rdd.take(10))\n",
    "\n",
    "tlds = words_by_tld_rdd.countByKey()\n",
    "#print(tlds)\n",
    "\n",
    "tlds = OrderedDict(sorted(tlds.items(), key = itemgetter(1), reverse = True))\n",
    "# print(tlds)  \n",
    "\n",
    "top_tlds = dict(itertools.islice(tlds.items(), 10))\n",
    "\n",
    "# print(top_tlds)\n",
    "\n",
    "print(\"Results:\")\n",
    "\n",
    "for tld in top_tlds:\n",
    "    print(tld)\n",
    "    top_words_for_tld = words_by_tld_rdd\\\n",
    "        .filter(lambda tld_word: tld_word[0] == tld)\\\n",
    "        .values()\\\n",
    "        .map(lambda w: (w,1))\\\n",
    "        .reduceByKey(add)\\\n",
    "        .takeOrdered(20, key=lambda x: -x[1])\n",
    "    print(top_words_for_tld)"
   ]
  },
  {
   "cell_type": "code",
   "execution_count": null,
   "metadata": {
    "editable": true,
    "slideshow": {
     "slide_type": ""
    },
    "tags": []
   },
   "outputs": [],
   "source": []
  },
  {
   "cell_type": "code",
   "execution_count": 8,
   "metadata": {},
   "outputs": [],
   "source": [
    "spark_session.stop()"
   ]
  },
  {
   "cell_type": "code",
   "execution_count": null,
   "metadata": {
    "editable": true,
    "slideshow": {
     "slide_type": ""
    },
    "tags": []
   },
   "outputs": [],
   "source": []
  }
 ],
 "metadata": {
  "kernelspec": {
   "display_name": "Python 3 (ipykernel)",
   "language": "python",
   "name": "python3"
  },
  "language_info": {
   "codemirror_mode": {
    "name": "ipython",
    "version": 3
   },
   "file_extension": ".py",
   "mimetype": "text/x-python",
   "name": "python",
   "nbconvert_exporter": "python",
   "pygments_lexer": "ipython3",
   "version": "3.10.12"
  },
  "toc": {
   "base_numbering": 1,
   "nav_menu": {},
   "number_sections": true,
   "sideBar": true,
   "skip_h1_title": false,
   "title_cell": "Table of Contents",
   "title_sidebar": "Contents",
   "toc_cell": false,
   "toc_position": {},
   "toc_section_display": true,
   "toc_window_display": false
  }
 },
 "nbformat": 4,
 "nbformat_minor": 4
}
