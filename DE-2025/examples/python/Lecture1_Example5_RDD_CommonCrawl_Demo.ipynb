{
 "cells": [
  {
   "cell_type": "code",
   "execution_count": 1,
   "metadata": {
    "editable": true,
    "slideshow": {
     "slide_type": ""
    },
    "tags": []
   },
   "outputs": [
    {
     "name": "stderr",
     "output_type": "stream",
     "text": [
      "Setting default log level to \"WARN\".\n",
      "To adjust logging level use sc.setLogLevel(newLevel). For SparkR, use setLogLevel(newLevel).\n",
      "25/02/06 16:39:18 WARN NativeCodeLoader: Unable to load native-hadoop library for your platform... using builtin-java classes where applicable\n"
     ]
    }
   ],
   "source": [
    "from operator import add\n",
    "import re\n",
    "from collections import OrderedDict\n",
    "from operator import itemgetter \n",
    "import itertools\n",
    "from pyspark.sql import SparkSession\n",
    "\n",
    "# New API\n",
    "spark_session = SparkSession\\\n",
    "        .builder\\\n",
    "        .master(\"spark://192.168.2.251:7077\") \\\n",
    "        .appName(\"Lecture1_Example5_common_crawl\")\\\n",
    "        .config(\"spark.executor.cores\",4)\\\n",
    "        .config(\"spark.dynamicAllocation.enabled\", True)\\\n",
    "        .config(\"spark.dynamicAllocation.shuffleTracking.enabled\", True)\\\n",
    "        .config(\"spark.shuffle.service.enabled\", False)\\\n",
    "        .config(\"spark.dynamicAllocation.executorIdleTimeout\",\"30s\")\\\n",
    "        .config(\"spark.driver.port\",9999)\\\n",
    "        .config(\"spark.blockManager.port\",10005)\\\n",
    "        .getOrCreate()\n",
    "\n",
    "\n",
    "# RDD API \n",
    "spark_context = spark_session.sparkContext\n",
    "spark_context.setLogLevel(\"ERROR\")"
   ]
  },
  {
   "cell_type": "code",
   "execution_count": 3,
   "metadata": {},
   "outputs": [
    {
     "name": "stderr",
     "output_type": "stream",
     "text": [
      "                                                                                "
     ]
    },
    {
     "data": {
      "text/plain": [
       "37543"
      ]
     },
     "execution_count": 3,
     "metadata": {},
     "output_type": "execute_result"
    }
   ],
   "source": [
    "\n",
    "# (*/*) - out of memory›\n",
    "# ~6.4mins for 39496 files. (...00000/)  (takes 1 minute with 40 partitions)\n",
    "# ~5 secs for 10 files (...00000/0*) \n",
    "# ~20 secs for 11110 files (...00000/1*) \n",
    "\n",
    "\n",
    "rdd = spark_context.newAPIHadoopFile(\n",
    "    \"hdfs://192.168.2.251:9000/data/crawl/CC-MAIN-20230921073711-20230921103711-00000.warc.wet\",\n",
    "    \"org.apache.hadoop.mapreduce.lib.input.TextInputFormat\",\n",
    "    \"org.apache.hadoop.io.LongWritable\",\n",
    "    \"org.apache.hadoop.io.Text\",\n",
    "    conf={\"textinputformat.record.delimiter\": \"WARC/1.0\"}\n",
    ")\\\n",
    ".cache() # Keep this RDD in memory!\n",
    "\n",
    "rdd.count()\n",
    "# Only one job (previous .cache() did not trigger a job)"
   ]
  },
  {
   "cell_type": "code",
   "execution_count": 4,
   "metadata": {},
   "outputs": [
    {
     "data": {
      "text/plain": [
       "[(0, ''),\n",
       " (8,\n",
       "  '\\r\\nWARC-Type: warcinfo\\r\\nWARC-Date: 2023-10-05T05:57:19Z\\r\\nWARC-Filename: CC-MAIN-20230921073711-20230921103711-00000.warc.wet.gz\\r\\nWARC-Record-ID: <urn:uuid:f89d0e85-fbff-49dc-b801-b5c18e3c6b6f>\\r\\nContent-Type: application/warc-fields\\r\\nContent-Length: 382\\r\\n\\r\\nSoftware-Info: ia-web-commons.1.1.10-SNAPSHOT-20230912101454\\r\\nExtracted-Date: Thu, 05 Oct 2023 05:57:19 GMT\\r\\nrobots: checked via crawler-commons 1.5-SNAPSHOT (https://github.com/crawler-commons/crawler-commons)\\r\\nisPartOf: CC-MAIN-2023-40\\r\\noperator: Common Crawl Admin (info@commoncrawl.org)\\r\\ndescription: Wide crawl of the web for September/October 2023\\r\\npublisher: Common Crawl\\r\\n\\r\\n\\r\\n\\r\\n'),\n",
       " (657,\n",
       "  '\\r\\nWARC-Type: conversion\\r\\nWARC-Target-URI: http://0-50.ru/news/incident/2013-04-06/id_31240.html\\r\\nWARC-Date: 2023-09-21T09:40:08Z\\r\\nWARC-Record-ID: <urn:uuid:c2c722d3-682b-42be-b58b-7e95e7e74da7>\\r\\nWARC-Refers-To: <urn:uuid:60c59970-5c55-4336-805c-a84c0dae5be1>\\r\\nWARC-Block-Digest: sha1:7KSEVUGQQT4AOH64XL7FN7XMKGA4D5XM\\r\\nWARC-Identified-Content-Language: rus\\r\\nContent-Type: text/plain\\r\\nContent-Length: 15032\\r\\n\\r\\nНовости 0-50.ru | Автобус, два грузовика и легковушка столкнулись на Рязанском проспекте в Москве |\\n|\\nПогода в Екатеринбурге и Свердловской области |\\nЧто приготовить на ужин рецепт с фото |\\nНовости Екатеринбурга |\\n96women.ru - Живой Женский Журнал |\\nГлавная\\nРедакция\\nРеклама\\nО проекте\\nRSS\\nОбратная связь\\nВсе новости\\nЕкатеринбург\\nРоссия и мир\\nОбразование\\nНедвижимость\\nЗдоровье\\nСпорт\\nПроисшествия\\nТранспорт\\nНовости компаний\\nДругая жизнь\\nСтатьи\\nАвтобус, два грузовика и легковушка столкнулись на Рязанском проспекте в Москве\\nЧетыре автомобиля столкнулись в ночь на субботу на Рязанском проспекте в Москве.\\nВ аварии участвовали автобус Higer, грузовик МАЗ, еще один грузовик и автомобиль KIA Sportage.\\nАвтобус двигался по Рязанскому шоссе в сторону МКАД. Он врезался в ехавший впереди грузовик, который, в свою очередь, влетел в стоящий в правом ряду МАЗ. От сильного удара кабину грузовика буквально раздавило об прицеп МаЗа. Автобус откинуло в средний ряд, где он ударил автомобиль KIA.\\nВ результате аварии пострадали несколько пассажиров автобуса, получившие незначительные ушибы и ссадины. Все пострадавшие от госпитализации отказались. Водитель одного из автомобилей скрылся с места происшествия.\\nТэги: ДТП в Москве, ДТП на Рязанском проспекте, новости москвы\\n06.04.2013 11:40\\nНовости\\nВ многоэтажке на улице Куйбышева произошел пожар\\nВ 10 утра Екатеринбурге на улице Куйбышева 86 произошел пожар\\nВ Полевском во дворе дома № 15 на Ялунина «Газель» насмерть сбила 80-летнего мужчину\\nводитель даже не заметил\\nВ Екатеринбурге на перекрестке Ленина - Луначарского столкнулись трамваи № 18 и № 15\\nзакрыто движение трамваев от УрФУ до гостиницы «Исеть»\\nВ Екатеринбурге на перекрестке Белинского и Фрунзе Hyundai Accent сбил 14-летнюю девочку\\nСегодня утром примерно в половине десятого\\nНа трассе у Новоуральска студентка, торопившаяся на экзамен, перевернулась на Nissan Almera\\nСегодня днем\\nНа Фрезеровщиков 38-летняя женщина на Toyota Vitz сбила 62-летнюю женщину, протащила за собой и переехала\\nДТП попало на видео\\nВ Екатеринбурге на Кунарской Kia Sportage протаранил три припаркованных автомобиля и скрылся\\nв номере Kia Sportage запомнили сочетание 636СМ\\nНа екатеринбургской объездной дороге автомобиль «Яндекс.Такси» влетел под фуру Iveсo\\nтаксист погиб на месте\\nВ Воронеже во дворе дома №77 на Калачеевской пьяный мужчина сжег Audi A8\\nсвою\\nВ Екатеринбурге у дома № 48 на Амудсена ВАЗ-2114 сбил 12-летнюю школьницу\\nпилот - 19-летний парень\\nЖители Эльмаша пошли на работу пешком в 20-градусный мороз\\nВ микрорайоне Эльмаш в г. Екатеринбурге минувшей ночью прорвало трубу с холодной водой.\\nВ Екатеринбурге из-за ДТП на перекрестке Победы и Ильича встали трамваи и автомобили\\nот Победы до улицы Уральских Рабочих скорость движения в потоке не выше 5 км в час\\nВ Екатеринбурге у дома № 177 на Белинского 62-летний пациент избил врача скорой помощи\\nв районе десяти часов вечера\\nЕхавший в Рязань мужчина на трассе А-108 спас подорвавшегося участкового ОМВД «Марьина Роща»\\nНакануне на 222-м километре трассы\\nВзрыв метана на полигоне ТБО у Конаково под Тверью привел к пожару, который вряд ли ликвидируют в ближайшие дни\\nЖители Конаково и окрестностей жалуются на дым и зловоние\\nВ Екатеринбурге у дома № 5/1 в переулке Красный злодеи ледорубом изувечили Cadillac, а ранее сожгли Toyota\\nпринадлежащую этому же хозяину\\nВ Екатеринбурге на Щербакова пробка из-за ДТП KIA Ceed, ВАЗ-2114 и Mazda\\nу ВАЗ-2114 не сработали тормоза\\nВ Екатеринбурге на перекрестке Репина и Начдива Васильева Nissan Almera протаранил Daewoo Matiz\\nкоторый двигался прямо на зеленый сигнал светофора\\nВ Екатеринбурге во дворе дома № 65/4 на Авиационной подростки сожгли ВАЗ\\nМинувшей ночью\\nВ Екатеринбурге на перекрестке Космонавтов и Шефской в ДТП сошлись Kia Spectra и Volkswagen Touareg\\nводитель которого нарушил ПДД\\n733 732 731 730 729 728 ... 1 >\\nОблако тегов\\nновости дом 2 2013 новости дом 2 2012 Пожар новости Дагестана погода в Москве беспорядки в Донецке новости Украины новости биатлона футбол России н Биатлон происшествия в Москве новости дом 2 сегодня новости Крыма сегодня новости Луганска сегодня убийство украина новости сегодня футбол сегодня санкции новости Славянска ДТП в Екатеринбурге Александр Мишарин сплетни дом 2 состав сборной России авария новости украины сегодня новости москвы новости Киева сегодня проишествия в москве новости киева США слухи на дом 2 новости дом 2 свежие новости дом 2 на сегодня Футбол футбол чемпионат России новости футбола новости Одессы авария в Екатеринбурге что происходит в Славянске новости Петербурга ДТП новости дом 2 новости екатеринбурга новости Луганска Владимир Путин операция в Славянске дом 2 свежие новости новости Севастополя новости Донецка Свердловская область дом 2 новости новости Крыма киев новости донецк новости сегодня Евгений Куйвашев новости Харькова санкции против России беспорядки в Киеве новости Краматорска\\nГлавная | Карта сайта | RSS Feed\\nНовости\\nДыхательные тренажеры , зачем и каковы их отличия\\nКакая основная причина давления, инсульта? Как доступным способом уйти от проблем с сосудами и жить до глубокой старости?\\nДыхательные тренажеры: для чего они и каковы их отличия?\\nПошив и продажа авточехлов для иномарок и отечественных автомобилей оптом и в розницу в Екатеринбурге\\nОфициальный сервисный центр Whirlpool Corporation открыл свои двери жителям Екатеринбурга\\nКакие услуги можно получить по полису ОМС (обязательного медицинского страхования) бесплатно\\nПрофилактика вирусных инфекций в рекомендациях кандидата медицинских наук, врача-инфекциониста высшей категории Щинова Андрея Ивановича\\nНовости СМИ2\\nКоллектив салонов оптики «ОЧКИ КУДЕЛИНОЙ» поздравляет горожан с наступающим 2020 годом!\\nБлаготворительный фонд Антона Шипулина и Благотворительный фонд «Общества Малышева-73 «Добрые дела» откроют еще 4 спортивных объекта\\nВ Екатеринбурге пройдет шестой Свердловский химический турнир\\nАнтон Шипулин и Игорь Заводовский откроют в Екатеринбурге три новые площадки для занятий по воркауту\\nМежрегиональная общественная организация «Аистенок» проводит благотворительную акцию «Чашка тепла»\\nЕкатеринбургский центр занятости приглашает граждан предпенсионного и пенсионного возраста на ярмарку вакансий\\nБлаготворительный фонд Антона Шипулина предлагает студентам возможность воплотить свои идеи и получить финансовую поддержку\\nВ Екатеринбурге перекроют движение по Красноармейской, Калинина, Шейнкмана, Попова, Мичурина и Тверитина\\nВсе новости…\\nАктуально\\nКакая основная причина давления, инсульта? Как доступным способом уйти от проблем с сосудами и жить до глубокой старости?\\nДыхательные тренажеры: для чего они и каковы их отличия?\\nПошив и продажа авточехлов для иномарок и отечественных автомобилей оптом и в розницу в Екатеринбурге\\nОфициальный сервисный центр Whirlpool Corporation открыл свои двери жителям Екатеринбурга\\nКакие услуги можно получить по полису ОМС (обязательного медицинского страхования) бесплатно\\nЕкатеринбургский центр занятости предлагает горожанам записаться на консультацию на сайте Департамента по труду и занятости Свердловской области\\nЕкатеринбургский центр занятости приглашает граждан предпенсионного возраста пройти бесплатное обучение\\nЧто приготовить на ужин быстро и вкусно: салат из куриной грудки рецепт с фото своими руками или на заказ\\nМежрегиональная общественная организация «Аистенок» проводит благотворительную акцию «Мама, останься!»\\nЛечение синдрома хронической усталости с помощью дыхательных упражнений\\nТорт из морковки простой рецепт с фото своими руками или на заказ\\nИмущественные споры граждан при разводе (расторжении брака) в мировом суде: «Эксперт-Ком» Екатеринбург\\nЧто приготовить на ужин быстро и вкусно: куриные маффины с грибами рецепт с фото пошагово\\nЧто приготовить на ужин быстро и вкусно: открытый пирог с семгой и брокколи рецепт с фото\\nЧто приготовить на ужин быстро и вкусно: ризотто с грибами и курицей рецепт с фото пошагово\\nВсе актуальные сюжеты…\\nСетевое издание Служба новостей 050 25 апреля 2017г. зарегистрировано в Федеральной службе по надзору в сфере связи,\\nинформационных технологий и массовых коммуникаций (Роскомнадзор)\\nСвидетельство о регистрации ЭЛ № ФС77-69503\\nУчредитель общество с ограниченной ответственностью «Горсправка-ИНФО»\\nГлавный редактор Давыдов А.В.\\nРуководитель проекта Николаев В.П.\\nАдрес электронной почты редакции 1@0-50.ru\\nТелефон редакции +7 (908) 914-27-00\\nНастоящий ресурс содержит материалы 18+\\n© Горсправка 2009-2019\\n\\r\\n\\r\\n')]"
      ]
     },
     "execution_count": 4,
     "metadata": {},
     "output_type": "execute_result"
    }
   ],
   "source": [
    "rdd.take(3)\n",
    "# [(line_number, partition)]"
   ]
  },
  {
   "cell_type": "code",
   "execution_count": 5,
   "metadata": {},
   "outputs": [
    {
     "data": {
      "text/plain": [
       "3"
      ]
     },
     "execution_count": 5,
     "metadata": {},
     "output_type": "execute_result"
    }
   ],
   "source": [
    "rdd.getNumPartitions()"
   ]
  },
  {
   "cell_type": "code",
   "execution_count": 6,
   "metadata": {},
   "outputs": [
    {
     "name": "stdout",
     "output_type": "stream",
     "text": [
      "http://de1-spark-host-180:4040\n"
     ]
    }
   ],
   "source": [
    "print(spark_context.uiWebUrl)"
   ]
  },
  {
   "cell_type": "code",
   "execution_count": 7,
   "metadata": {},
   "outputs": [
    {
     "name": "stderr",
     "output_type": "stream",
     "text": [
      "[Stage 3:===================>                                       (1 + 2) / 3]"
     ]
    },
    {
     "name": "stdout",
     "output_type": "stream",
     "text": [
      "[('and', 2053), ('the', 1526), ('of', 1353), ('to', 945), ('in', 645), ('a', 579), ('for', 576), ('with', 410), ('The', 350), ('on', 322), ('et', 318), ('al.', 310), ('Research', 271), ('is', 258), ('-', 230), ('at', 228), ('University', 227), ('', 213), ('Astronomy', 211), ('by', 208), ('&', 200), ('A.', 186), ('Planck', 184), ('article', 177), ('number:', 170), ('from', 168), ('your', 165), ('that', 162), ('Astrophysics', 159), ('R.', 158), ('P.', 156), ('you', 154), ('our', 153), ('are', 151), ('Ade,', 148), ('or', 146), ('us', 137), ('as', 133), ('pp.', 132), ('this', 131), ('International', 131), ('(BSc)', 130), ('be', 128), ('Centre', 124), ('(MSc)', 122), ('(BA)', 121), ('Study', 121), ('results.', 115), ('Presented', 112), ('have', 109), ('data', 107), ('we', 105), ('Search', 105), ('About', 102), ('will', 99), ('Our', 98), ('an', 97), ('A', 96), ('research', 92), ('not', 91)]\n"
     ]
    },
    {
     "name": "stderr",
     "output_type": "stream",
     "text": [
      "                                                                                "
     ]
    }
   ],
   "source": [
    "## Example #1 - Filter by Top_level Domain and compute most common words ##\n",
    "\n",
    "# Try .ac.uk, .ru, .se, .com\n",
    "p = re.compile(\"WARC-Target-URI: \\S+\\.ac.uk\", re.IGNORECASE)\n",
    "\n",
    "\n",
    "# Note: .partition(..) returns a 3-tuple: the string before the separator (index 0), \n",
    "# the separotor (index 1), and the part of the string afterwards (index 2) -- which is the part we want.\n",
    "all_words = rdd\\\n",
    "    .filter(lambda doc: bool(p.search(doc[1])))\\\n",
    "    .map(lambda web_text: web_text[1].partition(\"\\r\\n\\r\\n\")[2])\\\n",
    "    .flatMap(lambda t: t.split(\" \"))\\\n",
    "    .flatMap(lambda w: w.split(\"\\n\"))\\\n",
    "\n",
    "\n",
    "\n",
    "all_words_and_count = all_words.map(lambda w: w.strip())\\\n",
    "    .map(lambda w: (w,1))\n",
    "\n",
    "\n",
    "word_counts = all_words_and_count.reduceByKey(add)\n",
    "\n",
    "print(word_counts.takeOrdered(60, key=lambda x: -x[1]))\n",
    "\n"
   ]
  },
  {
   "cell_type": "code",
   "execution_count": 8,
   "metadata": {},
   "outputs": [
    {
     "name": "stderr",
     "output_type": "stream",
     "text": [
      "                                                                                "
     ]
    },
    {
     "name": "stdout",
     "output_type": "stream",
     "text": [
      "Results:\n",
      "com\n"
     ]
    },
    {
     "name": "stderr",
     "output_type": "stream",
     "text": [
      "                                                                                "
     ]
    },
    {
     "name": "stdout",
     "output_type": "stream",
     "text": [
      "[('the', 220335), ('to', 188078), ('and', 175143), ('of', 139934), ('a', 133113), ('', 124568), ('de', 110352), ('-', 109227), ('in', 109175), ('for', 82326), ('&', 71260), ('is', 63088), ('on', 51796), ('|', 49527), ('with', 48613), ('you', 48457), ('your', 47019), ('The', 46503), ('by', 39249), ('that', 37446)]\n",
      "org\n"
     ]
    },
    {
     "name": "stderr",
     "output_type": "stream",
     "text": [
      "                                                                                "
     ]
    },
    {
     "name": "stdout",
     "output_type": "stream",
     "text": [
      "[('the', 42521), ('', 41085), ('and', 31152), ('of', 29529), ('to', 27789), ('a', 19857), ('in', 18975), ('-', 13746), ('de', 12908), ('for', 12193), ('is', 9813), ('on', 8417), ('The', 7875), ('with', 6864), ('by', 6838), ('that', 6796), ('&', 6434), ('you', 5747), ('are', 5361), ('la', 5225)]\n",
      "ru\n"
     ]
    },
    {
     "name": "stderr",
     "output_type": "stream",
     "text": [
      "                                                                                "
     ]
    },
    {
     "name": "stdout",
     "output_type": "stream",
     "text": [
      "[('', 46708), ('и', 39355), ('в', 29330), ('для', 19241), ('на', 19007), ('с', 13740), ('не', 9292), ('-', 8772), ('по', 8159), ('В', 6751), ('от', 6090), ('что', 4909), ('из', 4886), ('—', 4754), ('к', 4535), ('или', 4085), ('1', 3973), ('0', 3796), ('Поковка', 3576), ('–', 3536)]\n",
      "de\n"
     ]
    },
    {
     "name": "stderr",
     "output_type": "stream",
     "text": [
      "                                                                                "
     ]
    },
    {
     "name": "stdout",
     "output_type": "stream",
     "text": [
      "[('', 60844), ('und', 22366), ('der', 14737), ('die', 13638), ('in', 11411), ('von', 10303), ('für', 9200), ('-', 8430), ('zu', 7638), ('Sie', 7068), ('&', 6482), ('mit', 6295), ('den', 5754), ('auf', 5267), ('im', 4671), ('ist', 4430), ('the', 4275), ('oder', 4257), ('–', 4005), ('€', 3912)]\n",
      "net\n"
     ]
    },
    {
     "name": "stderr",
     "output_type": "stream",
     "text": [
      "                                                                                "
     ]
    },
    {
     "name": "stdout",
     "output_type": "stream",
     "text": [
      "[('the', 16736), ('and', 12402), ('to', 11561), ('a', 10194), ('of', 8711), ('-', 7827), ('de', 7653), ('in', 6991), ('', 6385), ('is', 4989), ('for', 4669), ('The', 4610), ('on', 4198), ('with', 3907), ('&', 3205), ('you', 2983), ('I', 2935), ('by', 2916), ('Tax', 2678), ('your', 2644)]\n",
      "it\n"
     ]
    },
    {
     "name": "stderr",
     "output_type": "stream",
     "text": [
      "                                                                                "
     ]
    },
    {
     "name": "stdout",
     "output_type": "stream",
     "text": [
      "[('di', 20021), ('e', 12151), ('in', 6523), ('per', 6508), ('a', 5435), ('il', 5433), ('la', 5387), ('del', 4287), ('-', 4242), ('duplicato', 3995), ('che', 3655), ('un', 3103), ('', 3097), ('i', 3054), ('con', 3039), ('della', 2758), ('è', 2718), ('da', 2697), ('al', 2677), ('le', 2585)]\n",
      "fr\n"
     ]
    },
    {
     "name": "stderr",
     "output_type": "stream",
     "text": [
      "                                                                                "
     ]
    },
    {
     "name": "stdout",
     "output_type": "stream",
     "text": [
      "[('de', 28078), ('et', 10725), ('la', 9572), ('à', 8735), ('des', 7441), ('les', 6579), ('le', 6510), ('en', 5452), (':', 5337), ('-', 5068), ('du', 4899), ('pour', 4526), ('sur', 3747), ('un', 3706), ('dans', 2735), ('une', 2733), ('vous', 2648), ('au', 2625), ('est', 2517), ('Le', 2504)]\n",
      "hu\n"
     ]
    },
    {
     "name": "stderr",
     "output_type": "stream",
     "text": [
      "                                                                                "
     ]
    },
    {
     "name": "stdout",
     "output_type": "stream",
     "text": [
      "[('a', 28686), ('és', 18324), ('az', 14159), ('-', 14008), ('keresőoptimalizálás', 10352), ('A', 8692), ('keresőoptimalizálás,', 7702), ('havidíjas', 7145), ('weboldal', 6387), ('hogy', 6327), ('Az', 6155), ('Budapest', 4858), ('Weboldal', 4328), ('készítés', 4276), ('Google', 3726), ('online', 3506), ('belső', 3446), ('átmérő', 3379), ('bérelhető', 3168), ('Komplex', 3040)]\n",
      "pl\n"
     ]
    },
    {
     "name": "stderr",
     "output_type": "stream",
     "text": [
      "                                                                                "
     ]
    },
    {
     "name": "stdout",
     "output_type": "stream",
     "text": [
      "[('i', 12245), ('w', 9541), ('do', 8561), ('na', 6515), ('z', 6337), ('-', 4496), ('się', 3714), ('to', 2600), ('–', 2573), ('o', 2102), ('', 2086), ('nie', 1962), ('jest', 1938), ('dla', 1768), ('zł', 1682), ('W', 1502), ('(1)', 1339), ('the', 1301), ('od', 1260), ('a', 1258)]\n",
      "es\n"
     ]
    },
    {
     "name": "stderr",
     "output_type": "stream",
     "text": [
      "[Stage 24:======================================>                   (2 + 1) / 3]"
     ]
    },
    {
     "name": "stdout",
     "output_type": "stream",
     "text": [
      "[('de', 32364), ('la', 11097), ('en', 10436), ('y', 9830), ('el', 7870), ('a', 6682), ('que', 6635), ('los', 5639), ('del', 5437), ('para', 4348), ('las', 3938), ('se', 3421), ('con', 3086), ('por', 2987), ('o', 2961), ('un', 2250), ('una', 2063), ('al', 1907), ('su', 1720), ('-', 1636)]\n"
     ]
    },
    {
     "name": "stderr",
     "output_type": "stream",
     "text": [
      "                                                                                "
     ]
    }
   ],
   "source": [
    "## Example #2 - Group by TLD and compute most common words for each ##\n",
    "\n",
    "ex = \"WARC-Type: conversion\\\n",
    "WARC-Target-URI: http://news.bbc.co.uk/2/hi/africa/3414345.stm\\\n",
    "WARC-Date: 2014-08-02T09:52:13Z\"\n",
    "\n",
    "p = re.compile(\"WARC-Target-URI: \\S+\\.([a-zA-Z]{2,3})/\", re.IGNORECASE)\n",
    "# print(p.search(ex).group(1))\n",
    "# uk\n",
    "\n",
    "def get_tld(content):\n",
    "    match = p.search(content)\n",
    "    if match is not None:\n",
    "        return match.group(1)\n",
    "    else:\n",
    "        return None\n",
    "\n",
    "# discard the line number\n",
    "# partition() -- python function -- split on the first occurance, returns (before,split,after)\n",
    "# filter out those with no TLD\n",
    "\n",
    "    \n",
    "words_by_tld_rdd = rdd\\\n",
    "    .map(lambda filename_content: filename_content[1])\\\n",
    "    .map(lambda content: (get_tld(content), content.partition(\"\\r\\n\\r\\n\")[2]))\\\n",
    "    .filter(lambda tld_content: tld_content[0] is not None)\\\n",
    "    .flatMapValues(lambda words: words.split(\" \"))\\\n",
    "    .flatMapValues(lambda words: words.split(\"\\n\"))\\\n",
    "    .mapValues(lambda word: word.strip())\n",
    "    #.take(10)\n",
    "\n",
    "# print(words_by_tld_rdd.take(10))\n",
    "\n",
    "tlds = words_by_tld_rdd.countByKey()\n",
    "#print(tlds)\n",
    "\n",
    "tlds = OrderedDict(sorted(tlds.items(), key = itemgetter(1), reverse = True))\n",
    "# print(tlds)  \n",
    "\n",
    "top_tlds = dict(itertools.islice(tlds.items(), 10))\n",
    "\n",
    "# print(top_tlds)\n",
    "\n",
    "print(\"Results:\")\n",
    "\n",
    "for tld in top_tlds:\n",
    "    print(tld)\n",
    "    top_words_for_tld = words_by_tld_rdd\\\n",
    "        .filter(lambda tld_word: tld_word[0] == tld)\\\n",
    "        .values()\\\n",
    "        .map(lambda w: (w,1))\\\n",
    "        .reduceByKey(add)\\\n",
    "        .takeOrdered(20, key=lambda x: -x[1])\n",
    "    print(top_words_for_tld)"
   ]
  },
  {
   "cell_type": "code",
   "execution_count": null,
   "metadata": {
    "editable": true,
    "slideshow": {
     "slide_type": ""
    },
    "tags": []
   },
   "outputs": [],
   "source": []
  },
  {
   "cell_type": "code",
   "execution_count": 8,
   "metadata": {},
   "outputs": [],
   "source": [
    "spark_session.stop()"
   ]
  }
 ],
 "metadata": {
  "kernelspec": {
   "display_name": "Python 3 (ipykernel)",
   "language": "python",
   "name": "python3"
  },
  "language_info": {
   "codemirror_mode": {
    "name": "ipython",
    "version": 3
   },
   "file_extension": ".py",
   "mimetype": "text/x-python",
   "name": "python",
   "nbconvert_exporter": "python",
   "pygments_lexer": "ipython3",
   "version": "3.10.12"
  },
  "toc": {
   "base_numbering": 1,
   "nav_menu": {},
   "number_sections": true,
   "sideBar": true,
   "skip_h1_title": false,
   "title_cell": "Table of Contents",
   "title_sidebar": "Contents",
   "toc_cell": false,
   "toc_position": {},
   "toc_section_display": true,
   "toc_window_display": false
  }
 },
 "nbformat": 4,
 "nbformat_minor": 4
}
